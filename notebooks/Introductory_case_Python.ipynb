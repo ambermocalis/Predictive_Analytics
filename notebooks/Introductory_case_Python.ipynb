{
 "cells": [
  {
   "cell_type": "markdown",
   "metadata": {},
   "source": [
    "# Case Study\n",
    "\n",
    "\n",
    "**Objective**: Apply what we learn about Pandas to analyze a dataset and learn how to use visualizations to answer business questions: \n",
    "\n",
    "**Case**:\n",
    "* We have a dataset of food sales. \n",
    "* The dataset has data of the following variables: OrderID, UnitPrice, Quantity, Discount, ShippedDate, ShipCountry, ProductName, Year, and Category\n",
    "* The dataset has complete values of all columns, but because it comes from another application, the data types or formats of some columns do not completely suit our needs. \n",
    "* We need to modify the formats and data types of a few columns so that the dataset is ready for analysis. \n",
    "\n",
    "**Business Questions**:\n",
    "\n",
    "* Once the dataset is ready for analysis, we want to use it to answer the following questions:\n",
    "\n",
    "    * **How do the sales change over periods? Here, a period is defined as year+quarter.** \n",
    "    * **How are the sales across different categories?**\n",
    "    * **How are the sales across different countries?** \n",
    "    * **How are the sales distributed?**  \n",
    "    * **What are the sales percentage of different categories against the total sales?**\n",
    "    \n",
    "* We will visualize the dataset to answer the above questions. "
   ]
  },
  {
   "cell_type": "code",
   "execution_count": 1,
   "metadata": {},
   "outputs": [],
   "source": [
    "# -- import libraries -- \n",
    "import numpy as np\n",
    "import pandas as pd\n",
    "import matplotlib.pyplot as plt\n",
    "import seaborn as sns\n",
    "from matplotlib import style"
   ]
  },
  {
   "cell_type": "code",
   "execution_count": 2,
   "metadata": {},
   "outputs": [],
   "source": [
    "# -- Set and configure plot appearance and format --\n",
    "# -- See here for more options: https://matplotlib.org/users/customizing.html --\n",
    "%matplotlib inline\n"
   ]
  },
  {
   "cell_type": "markdown",
   "metadata": {},
   "source": [
    "# Why Visualize Data?\n",
    "* A picture is worth a thousand words\n",
    "* To spot anomalies\n",
    "* To identify patterns\n",
    "* To present relationships\n",
    "* To show the meaning of data\n",
    "* <a href='https://en.wikipedia.org/wiki/Anscombe%27s_quartet'>Anscombe's quartet</a>: four data sets that have similar descriptive statistics, but have quite different distributions and patterns\n",
    "![Anscombe's quartet](Anscombe's_quartet_3.svg)"
   ]
  },
  {
   "cell_type": "markdown",
   "metadata": {},
   "source": [
    "#  Plotting in Python\n",
    "\n",
    "**There are many Python libraries that we can use to visualize data. For now, we will introduce the most common one, Matplotlib.**\n",
    "\n",
    "## Matplotlib Objects: \n",
    "* Figure: which is a canvas that may contain many plots, which are called Axes.  \n",
    "* Axes: is generally what we mean as a plot or a chart. Each Axes object is characterized by two Axis. A common name for an Axes is called a subplot. \n",
    "* Axis: objects that contain numerical values marked on the Axes, define the limits of X-axis and Y-axis, and manage the ticks and tick labels of X-axis and Y-axis.  "
   ]
  },
  {
   "cell_type": "markdown",
   "metadata": {},
   "source": [
    "**Figure, Axes (subplots), and Axis**\n",
    "<table>\n",
    "    <tr><td><img src='subplot.JPG' width='300' height = '500'></td><td><img src='axes_axis.PNG' width='300' height='500'></td></tr>\n",
    "    </table>"
   ]
  },
  {
   "cell_type": "markdown",
   "metadata": {},
   "source": [
    "## Four Methods to Plot a Chart\n",
    "* Pandas DataFrame: has built-in charting capability. \n",
    "* MATPLOTLIB Library: \n",
    "    * MATLAB style: MATLAB is a programming platform designed specifically for engineers and scientists. It has strong functions for charting. The Python community borrows lessons from MATLAB's charting design and creates Matplotlib. \n",
    "    * Object-oriented approach: Matplolib also supports object-oriented approach, which is developed to address a few issues in the MATLAB style. \n",
    "* Seaborn: a data visualization library based on matplotlib. "
   ]
  },
  {
   "cell_type": "markdown",
   "metadata": {},
   "source": [
    "# DataFrame"
   ]
  },
  {
   "cell_type": "code",
   "execution_count": 3,
   "metadata": {},
   "outputs": [],
   "source": [
    "# -- Load dataset, foodSales.csv --\n",
    "# -- The ShippedDate column is in a format dif\n",
    "\n",
    "foodSales = pd.read_csv('https://raw.githubusercontent.com/ttchuang/dataset/master/foodSales.csv')\n"
   ]
  },
  {
   "cell_type": "code",
   "execution_count": 4,
   "metadata": {},
   "outputs": [
    {
     "name": "stdout",
     "output_type": "stream",
     "text": [
      "<class 'pandas.core.frame.DataFrame'>\n",
      "RangeIndex: 629 entries, 0 to 628\n",
      "Data columns (total 9 columns):\n",
      " #   Column       Non-Null Count  Dtype  \n",
      "---  ------       --------------  -----  \n",
      " 0   OrderID      629 non-null    int64  \n",
      " 1   UnitPrice    629 non-null    object \n",
      " 2   Quantity     629 non-null    int64  \n",
      " 3   Discount     629 non-null    float64\n",
      " 4   ShippedDate  629 non-null    object \n",
      " 5   ShipCountry  629 non-null    object \n",
      " 6   ProductName  629 non-null    object \n",
      " 7   Year         629 non-null    int64  \n",
      " 8   Category     629 non-null    object \n",
      "dtypes: float64(1), int64(3), object(5)\n",
      "memory usage: 44.4+ KB\n"
     ]
    }
   ],
   "source": [
    "foodSales.info()"
   ]
  },
  {
   "cell_type": "markdown",
   "metadata": {},
   "source": [
    "## Examine Data Types and Format\n",
    "**Data Issues: Please examine the dataset. Do you see any problems with the data?**"
   ]
  },
  {
   "cell_type": "code",
   "execution_count": 5,
   "metadata": {},
   "outputs": [
    {
     "name": "stdout",
     "output_type": "stream",
     "text": [
      "<class 'pandas.core.frame.DataFrame'>\n",
      "RangeIndex: 629 entries, 0 to 628\n",
      "Data columns (total 9 columns):\n",
      " #   Column       Non-Null Count  Dtype  \n",
      "---  ------       --------------  -----  \n",
      " 0   OrderID      629 non-null    int64  \n",
      " 1   UnitPrice    629 non-null    object \n",
      " 2   Quantity     629 non-null    int64  \n",
      " 3   Discount     629 non-null    float64\n",
      " 4   ShippedDate  629 non-null    object \n",
      " 5   ShipCountry  629 non-null    object \n",
      " 6   ProductName  629 non-null    object \n",
      " 7   Year         629 non-null    int64  \n",
      " 8   Category     629 non-null    object \n",
      "dtypes: float64(1), int64(3), object(5)\n",
      "memory usage: 44.4+ KB\n"
     ]
    }
   ],
   "source": [
    "# -- Examine the dataset --\n",
    "foodSales.info()"
   ]
  },
  {
   "cell_type": "code",
   "execution_count": 6,
   "metadata": {},
   "outputs": [
    {
     "data": {
      "text/html": [
       "<div>\n",
       "<style scoped>\n",
       "    .dataframe tbody tr th:only-of-type {\n",
       "        vertical-align: middle;\n",
       "    }\n",
       "\n",
       "    .dataframe tbody tr th {\n",
       "        vertical-align: top;\n",
       "    }\n",
       "\n",
       "    .dataframe thead th {\n",
       "        text-align: right;\n",
       "    }\n",
       "</style>\n",
       "<table border=\"1\" class=\"dataframe\">\n",
       "  <thead>\n",
       "    <tr style=\"text-align: right;\">\n",
       "      <th></th>\n",
       "      <th>OrderID</th>\n",
       "      <th>UnitPrice</th>\n",
       "      <th>Quantity</th>\n",
       "      <th>Discount</th>\n",
       "      <th>ShippedDate</th>\n",
       "      <th>ShipCountry</th>\n",
       "      <th>ProductName</th>\n",
       "      <th>Year</th>\n",
       "      <th>Category</th>\n",
       "    </tr>\n",
       "  </thead>\n",
       "  <tbody>\n",
       "    <tr>\n",
       "      <th>0</th>\n",
       "      <td>10886</td>\n",
       "      <td>$31.00</td>\n",
       "      <td>70</td>\n",
       "      <td>0.0</td>\n",
       "      <td>3/2/2008</td>\n",
       "      <td>Brazil</td>\n",
       "      <td>Ikura</td>\n",
       "      <td>2008</td>\n",
       "      <td>Seafood</td>\n",
       "    </tr>\n",
       "    <tr>\n",
       "      <th>1</th>\n",
       "      <td>10886</td>\n",
       "      <td>$12.50</td>\n",
       "      <td>35</td>\n",
       "      <td>0.0</td>\n",
       "      <td>3/2/2008</td>\n",
       "      <td>Brazil</td>\n",
       "      <td>Gorgonzola Telino</td>\n",
       "      <td>2008</td>\n",
       "      <td>Dairy Products</td>\n",
       "    </tr>\n",
       "    <tr>\n",
       "      <th>2</th>\n",
       "      <td>10886</td>\n",
       "      <td>$13.00</td>\n",
       "      <td>40</td>\n",
       "      <td>0.0</td>\n",
       "      <td>3/2/2008</td>\n",
       "      <td>Brazil</td>\n",
       "      <td>Original Frankfurter grüne Soße</td>\n",
       "      <td>2008</td>\n",
       "      <td>Condiments</td>\n",
       "    </tr>\n",
       "    <tr>\n",
       "      <th>3</th>\n",
       "      <td>10903</td>\n",
       "      <td>$6.00</td>\n",
       "      <td>40</td>\n",
       "      <td>0.0</td>\n",
       "      <td>3/4/2008</td>\n",
       "      <td>Brazil</td>\n",
       "      <td>Konbu</td>\n",
       "      <td>2008</td>\n",
       "      <td>Seafood</td>\n",
       "    </tr>\n",
       "    <tr>\n",
       "      <th>4</th>\n",
       "      <td>10903</td>\n",
       "      <td>$21.05</td>\n",
       "      <td>21</td>\n",
       "      <td>0.0</td>\n",
       "      <td>3/4/2008</td>\n",
       "      <td>Brazil</td>\n",
       "      <td>Louisiana Fiery Hot Pepper Sauce</td>\n",
       "      <td>2008</td>\n",
       "      <td>Condiments</td>\n",
       "    </tr>\n",
       "  </tbody>\n",
       "</table>\n",
       "</div>"
      ],
      "text/plain": [
       "   OrderID UnitPrice  Quantity  Discount ShippedDate ShipCountry  \\\n",
       "0    10886   $31.00         70       0.0    3/2/2008      Brazil   \n",
       "1    10886   $12.50         35       0.0    3/2/2008      Brazil   \n",
       "2    10886   $13.00         40       0.0    3/2/2008      Brazil   \n",
       "3    10903    $6.00         40       0.0    3/4/2008      Brazil   \n",
       "4    10903   $21.05         21       0.0    3/4/2008      Brazil   \n",
       "\n",
       "                        ProductName  Year        Category  \n",
       "0                             Ikura  2008         Seafood  \n",
       "1                 Gorgonzola Telino  2008  Dairy Products  \n",
       "2   Original Frankfurter grüne Soße  2008      Condiments  \n",
       "3                             Konbu  2008         Seafood  \n",
       "4  Louisiana Fiery Hot Pepper Sauce  2008      Condiments  "
      ]
     },
     "execution_count": 6,
     "metadata": {},
     "output_type": "execute_result"
    }
   ],
   "source": [
    "# -- Preview the dataset\n",
    "foodSales.head()"
   ]
  },
  {
   "cell_type": "code",
   "execution_count": 8,
   "metadata": {},
   "outputs": [
    {
     "data": {
      "text/plain": [
       "dtype('float64')"
      ]
     },
     "execution_count": 8,
     "metadata": {},
     "output_type": "execute_result"
    }
   ],
   "source": [
    "# -- Deal with improper data format --\n",
    "foodSales['UnitPrice'] = foodSales['UnitPrice'].str.replace('$','')\n",
    "foodSales['UnitPrice'] = foodSales['UnitPrice'].astype(float)\n",
    "foodSales['UnitPrice'].dtype"
   ]
  },
  {
   "cell_type": "code",
   "execution_count": 9,
   "metadata": {},
   "outputs": [],
   "source": [
    "# -- Deal with improper data types --\n",
    "foodSales['ShippedDate']=pd.to_datetime(foodSales['ShippedDate'])"
   ]
  },
  {
   "cell_type": "code",
   "execution_count": 10,
   "metadata": {},
   "outputs": [
    {
     "name": "stdout",
     "output_type": "stream",
     "text": [
      "<class 'pandas.core.frame.DataFrame'>\n",
      "RangeIndex: 629 entries, 0 to 628\n",
      "Data columns (total 9 columns):\n",
      " #   Column       Non-Null Count  Dtype         \n",
      "---  ------       --------------  -----         \n",
      " 0   OrderID      629 non-null    int64         \n",
      " 1   UnitPrice    629 non-null    float64       \n",
      " 2   Quantity     629 non-null    int64         \n",
      " 3   Discount     629 non-null    float64       \n",
      " 4   ShippedDate  629 non-null    datetime64[ns]\n",
      " 5   ShipCountry  629 non-null    object        \n",
      " 6   ProductName  629 non-null    object        \n",
      " 7   Year         629 non-null    int64         \n",
      " 8   Category     629 non-null    object        \n",
      "dtypes: datetime64[ns](1), float64(2), int64(3), object(3)\n",
      "memory usage: 44.4+ KB\n"
     ]
    }
   ],
   "source": [
    "foodSales.info()"
   ]
  },
  {
   "cell_type": "markdown",
   "metadata": {},
   "source": [
    "**Note**: Another way to deal with the issue of Date being the string data type is to use parse_dates, the argument of which is a list of the columns that have the date or time format. \n"
   ]
  },
  {
   "cell_type": "code",
   "execution_count": 11,
   "metadata": {},
   "outputs": [
    {
     "name": "stdout",
     "output_type": "stream",
     "text": [
      "<class 'pandas.core.frame.DataFrame'>\n",
      "RangeIndex: 629 entries, 0 to 628\n",
      "Data columns (total 9 columns):\n",
      " #   Column       Non-Null Count  Dtype         \n",
      "---  ------       --------------  -----         \n",
      " 0   OrderID      629 non-null    int64         \n",
      " 1   UnitPrice    629 non-null    object        \n",
      " 2   Quantity     629 non-null    int64         \n",
      " 3   Discount     629 non-null    float64       \n",
      " 4   ShippedDate  629 non-null    datetime64[ns]\n",
      " 5   ShipCountry  629 non-null    object        \n",
      " 6   ProductName  629 non-null    object        \n",
      " 7   Year         629 non-null    int64         \n",
      " 8   Category     629 non-null    object        \n",
      "dtypes: datetime64[ns](1), float64(1), int64(3), object(4)\n",
      "memory usage: 44.4+ KB\n"
     ]
    }
   ],
   "source": [
    "# -- Load dataset, foodSales.csv --\n",
    "# -- The ShippedDate column is in a format dif\n",
    "\n",
    "foodSales2 = pd.read_csv('https://raw.githubusercontent.com/ttchuang/dataset/master/foodSales.csv',\n",
    "                         parse_dates=['ShippedDate'])\n",
    "foodSales2.info()"
   ]
  },
  {
   "cell_type": "markdown",
   "metadata": {},
   "source": [
    "## Create Periods"
   ]
  },
  {
   "cell_type": "markdown",
   "metadata": {},
   "source": [
    "### Using to_period()\n",
    "\n",
    "**Create a new column called QuarterlyPeriod, whose values have the format, 2008Q1.**"
   ]
  },
  {
   "cell_type": "code",
   "execution_count": 12,
   "metadata": {},
   "outputs": [
    {
     "data": {
      "text/html": [
       "<div>\n",
       "<style scoped>\n",
       "    .dataframe tbody tr th:only-of-type {\n",
       "        vertical-align: middle;\n",
       "    }\n",
       "\n",
       "    .dataframe tbody tr th {\n",
       "        vertical-align: top;\n",
       "    }\n",
       "\n",
       "    .dataframe thead th {\n",
       "        text-align: right;\n",
       "    }\n",
       "</style>\n",
       "<table border=\"1\" class=\"dataframe\">\n",
       "  <thead>\n",
       "    <tr style=\"text-align: right;\">\n",
       "      <th></th>\n",
       "      <th>OrderID</th>\n",
       "      <th>UnitPrice</th>\n",
       "      <th>Quantity</th>\n",
       "      <th>Discount</th>\n",
       "      <th>ShippedDate</th>\n",
       "      <th>ShipCountry</th>\n",
       "      <th>ProductName</th>\n",
       "      <th>Year</th>\n",
       "      <th>Category</th>\n",
       "      <th>QuarterlyPeriod</th>\n",
       "    </tr>\n",
       "  </thead>\n",
       "  <tbody>\n",
       "    <tr>\n",
       "      <th>0</th>\n",
       "      <td>10886</td>\n",
       "      <td>31.00</td>\n",
       "      <td>70</td>\n",
       "      <td>0.0</td>\n",
       "      <td>2008-03-02</td>\n",
       "      <td>Brazil</td>\n",
       "      <td>Ikura</td>\n",
       "      <td>2008</td>\n",
       "      <td>Seafood</td>\n",
       "      <td>2008Q1</td>\n",
       "    </tr>\n",
       "    <tr>\n",
       "      <th>1</th>\n",
       "      <td>10886</td>\n",
       "      <td>12.50</td>\n",
       "      <td>35</td>\n",
       "      <td>0.0</td>\n",
       "      <td>2008-03-02</td>\n",
       "      <td>Brazil</td>\n",
       "      <td>Gorgonzola Telino</td>\n",
       "      <td>2008</td>\n",
       "      <td>Dairy Products</td>\n",
       "      <td>2008Q1</td>\n",
       "    </tr>\n",
       "    <tr>\n",
       "      <th>2</th>\n",
       "      <td>10886</td>\n",
       "      <td>13.00</td>\n",
       "      <td>40</td>\n",
       "      <td>0.0</td>\n",
       "      <td>2008-03-02</td>\n",
       "      <td>Brazil</td>\n",
       "      <td>Original Frankfurter grüne Soße</td>\n",
       "      <td>2008</td>\n",
       "      <td>Condiments</td>\n",
       "      <td>2008Q1</td>\n",
       "    </tr>\n",
       "    <tr>\n",
       "      <th>3</th>\n",
       "      <td>10903</td>\n",
       "      <td>6.00</td>\n",
       "      <td>40</td>\n",
       "      <td>0.0</td>\n",
       "      <td>2008-03-04</td>\n",
       "      <td>Brazil</td>\n",
       "      <td>Konbu</td>\n",
       "      <td>2008</td>\n",
       "      <td>Seafood</td>\n",
       "      <td>2008Q1</td>\n",
       "    </tr>\n",
       "    <tr>\n",
       "      <th>4</th>\n",
       "      <td>10903</td>\n",
       "      <td>21.05</td>\n",
       "      <td>21</td>\n",
       "      <td>0.0</td>\n",
       "      <td>2008-03-04</td>\n",
       "      <td>Brazil</td>\n",
       "      <td>Louisiana Fiery Hot Pepper Sauce</td>\n",
       "      <td>2008</td>\n",
       "      <td>Condiments</td>\n",
       "      <td>2008Q1</td>\n",
       "    </tr>\n",
       "  </tbody>\n",
       "</table>\n",
       "</div>"
      ],
      "text/plain": [
       "   OrderID  UnitPrice  Quantity  Discount ShippedDate ShipCountry  \\\n",
       "0    10886      31.00        70       0.0  2008-03-02      Brazil   \n",
       "1    10886      12.50        35       0.0  2008-03-02      Brazil   \n",
       "2    10886      13.00        40       0.0  2008-03-02      Brazil   \n",
       "3    10903       6.00        40       0.0  2008-03-04      Brazil   \n",
       "4    10903      21.05        21       0.0  2008-03-04      Brazil   \n",
       "\n",
       "                        ProductName  Year        Category QuarterlyPeriod  \n",
       "0                             Ikura  2008         Seafood          2008Q1  \n",
       "1                 Gorgonzola Telino  2008  Dairy Products          2008Q1  \n",
       "2   Original Frankfurter grüne Soße  2008      Condiments          2008Q1  \n",
       "3                             Konbu  2008         Seafood          2008Q1  \n",
       "4  Louisiana Fiery Hot Pepper Sauce  2008      Condiments          2008Q1  "
      ]
     },
     "execution_count": 12,
     "metadata": {},
     "output_type": "execute_result"
    }
   ],
   "source": [
    "# -- Creat new columns \n",
    "foodSales['QuarterlyPeriod']=foodSales['ShippedDate'].dt.to_period('Q')\n",
    "foodSales.head()"
   ]
  },
  {
   "cell_type": "markdown",
   "metadata": {},
   "source": [
    "**Exercises:** Use to_period() to add a new column called MonthlyPeriod"
   ]
  },
  {
   "cell_type": "markdown",
   "metadata": {},
   "source": [
    "### Create a New Column\n",
    "\n",
    "**Create a new column called Quarter**"
   ]
  },
  {
   "cell_type": "code",
   "execution_count": 13,
   "metadata": {},
   "outputs": [
    {
     "data": {
      "text/html": [
       "<div>\n",
       "<style scoped>\n",
       "    .dataframe tbody tr th:only-of-type {\n",
       "        vertical-align: middle;\n",
       "    }\n",
       "\n",
       "    .dataframe tbody tr th {\n",
       "        vertical-align: top;\n",
       "    }\n",
       "\n",
       "    .dataframe thead th {\n",
       "        text-align: right;\n",
       "    }\n",
       "</style>\n",
       "<table border=\"1\" class=\"dataframe\">\n",
       "  <thead>\n",
       "    <tr style=\"text-align: right;\">\n",
       "      <th></th>\n",
       "      <th>OrderID</th>\n",
       "      <th>UnitPrice</th>\n",
       "      <th>Quantity</th>\n",
       "      <th>Discount</th>\n",
       "      <th>ShippedDate</th>\n",
       "      <th>ShipCountry</th>\n",
       "      <th>ProductName</th>\n",
       "      <th>Year</th>\n",
       "      <th>Category</th>\n",
       "      <th>QuarterlyPeriod</th>\n",
       "      <th>Quarter</th>\n",
       "    </tr>\n",
       "  </thead>\n",
       "  <tbody>\n",
       "    <tr>\n",
       "      <th>0</th>\n",
       "      <td>10886</td>\n",
       "      <td>31.00</td>\n",
       "      <td>70</td>\n",
       "      <td>0.0</td>\n",
       "      <td>2008-03-02</td>\n",
       "      <td>Brazil</td>\n",
       "      <td>Ikura</td>\n",
       "      <td>2008</td>\n",
       "      <td>Seafood</td>\n",
       "      <td>2008Q1</td>\n",
       "      <td>1</td>\n",
       "    </tr>\n",
       "    <tr>\n",
       "      <th>1</th>\n",
       "      <td>10886</td>\n",
       "      <td>12.50</td>\n",
       "      <td>35</td>\n",
       "      <td>0.0</td>\n",
       "      <td>2008-03-02</td>\n",
       "      <td>Brazil</td>\n",
       "      <td>Gorgonzola Telino</td>\n",
       "      <td>2008</td>\n",
       "      <td>Dairy Products</td>\n",
       "      <td>2008Q1</td>\n",
       "      <td>1</td>\n",
       "    </tr>\n",
       "    <tr>\n",
       "      <th>2</th>\n",
       "      <td>10886</td>\n",
       "      <td>13.00</td>\n",
       "      <td>40</td>\n",
       "      <td>0.0</td>\n",
       "      <td>2008-03-02</td>\n",
       "      <td>Brazil</td>\n",
       "      <td>Original Frankfurter grüne Soße</td>\n",
       "      <td>2008</td>\n",
       "      <td>Condiments</td>\n",
       "      <td>2008Q1</td>\n",
       "      <td>1</td>\n",
       "    </tr>\n",
       "    <tr>\n",
       "      <th>3</th>\n",
       "      <td>10903</td>\n",
       "      <td>6.00</td>\n",
       "      <td>40</td>\n",
       "      <td>0.0</td>\n",
       "      <td>2008-03-04</td>\n",
       "      <td>Brazil</td>\n",
       "      <td>Konbu</td>\n",
       "      <td>2008</td>\n",
       "      <td>Seafood</td>\n",
       "      <td>2008Q1</td>\n",
       "      <td>1</td>\n",
       "    </tr>\n",
       "    <tr>\n",
       "      <th>4</th>\n",
       "      <td>10903</td>\n",
       "      <td>21.05</td>\n",
       "      <td>21</td>\n",
       "      <td>0.0</td>\n",
       "      <td>2008-03-04</td>\n",
       "      <td>Brazil</td>\n",
       "      <td>Louisiana Fiery Hot Pepper Sauce</td>\n",
       "      <td>2008</td>\n",
       "      <td>Condiments</td>\n",
       "      <td>2008Q1</td>\n",
       "      <td>1</td>\n",
       "    </tr>\n",
       "  </tbody>\n",
       "</table>\n",
       "</div>"
      ],
      "text/plain": [
       "   OrderID  UnitPrice  Quantity  Discount ShippedDate ShipCountry  \\\n",
       "0    10886      31.00        70       0.0  2008-03-02      Brazil   \n",
       "1    10886      12.50        35       0.0  2008-03-02      Brazil   \n",
       "2    10886      13.00        40       0.0  2008-03-02      Brazil   \n",
       "3    10903       6.00        40       0.0  2008-03-04      Brazil   \n",
       "4    10903      21.05        21       0.0  2008-03-04      Brazil   \n",
       "\n",
       "                        ProductName  Year        Category QuarterlyPeriod  \\\n",
       "0                             Ikura  2008         Seafood          2008Q1   \n",
       "1                 Gorgonzola Telino  2008  Dairy Products          2008Q1   \n",
       "2   Original Frankfurter grüne Soße  2008      Condiments          2008Q1   \n",
       "3                             Konbu  2008         Seafood          2008Q1   \n",
       "4  Louisiana Fiery Hot Pepper Sauce  2008      Condiments          2008Q1   \n",
       "\n",
       "   Quarter  \n",
       "0        1  \n",
       "1        1  \n",
       "2        1  \n",
       "3        1  \n",
       "4        1  "
      ]
     },
     "execution_count": 13,
     "metadata": {},
     "output_type": "execute_result"
    }
   ],
   "source": [
    "# -- Creat new columns \n",
    "foodSales['Quarter']=foodSales['ShippedDate'].dt.quarter\n",
    "foodSales.head()"
   ]
  },
  {
   "cell_type": "code",
   "execution_count": 14,
   "metadata": {},
   "outputs": [],
   "source": [
    "# -- Create periods --\n",
    "foodSales['Periods']=foodSales['Year'].astype(str)+'0'+foodSales['Quarter'].astype(str)"
   ]
  },
  {
   "cell_type": "code",
   "execution_count": 15,
   "metadata": {},
   "outputs": [
    {
     "data": {
      "text/html": [
       "<div>\n",
       "<style scoped>\n",
       "    .dataframe tbody tr th:only-of-type {\n",
       "        vertical-align: middle;\n",
       "    }\n",
       "\n",
       "    .dataframe tbody tr th {\n",
       "        vertical-align: top;\n",
       "    }\n",
       "\n",
       "    .dataframe thead th {\n",
       "        text-align: right;\n",
       "    }\n",
       "</style>\n",
       "<table border=\"1\" class=\"dataframe\">\n",
       "  <thead>\n",
       "    <tr style=\"text-align: right;\">\n",
       "      <th></th>\n",
       "      <th>OrderID</th>\n",
       "      <th>UnitPrice</th>\n",
       "      <th>Quantity</th>\n",
       "      <th>Discount</th>\n",
       "      <th>ShippedDate</th>\n",
       "      <th>ShipCountry</th>\n",
       "      <th>ProductName</th>\n",
       "      <th>Year</th>\n",
       "      <th>Category</th>\n",
       "      <th>QuarterlyPeriod</th>\n",
       "      <th>Quarter</th>\n",
       "      <th>Periods</th>\n",
       "    </tr>\n",
       "  </thead>\n",
       "  <tbody>\n",
       "    <tr>\n",
       "      <th>0</th>\n",
       "      <td>10886</td>\n",
       "      <td>31.00</td>\n",
       "      <td>70</td>\n",
       "      <td>0.0</td>\n",
       "      <td>2008-03-02</td>\n",
       "      <td>Brazil</td>\n",
       "      <td>Ikura</td>\n",
       "      <td>2008</td>\n",
       "      <td>Seafood</td>\n",
       "      <td>2008Q1</td>\n",
       "      <td>1</td>\n",
       "      <td>200801</td>\n",
       "    </tr>\n",
       "    <tr>\n",
       "      <th>1</th>\n",
       "      <td>10886</td>\n",
       "      <td>12.50</td>\n",
       "      <td>35</td>\n",
       "      <td>0.0</td>\n",
       "      <td>2008-03-02</td>\n",
       "      <td>Brazil</td>\n",
       "      <td>Gorgonzola Telino</td>\n",
       "      <td>2008</td>\n",
       "      <td>Dairy Products</td>\n",
       "      <td>2008Q1</td>\n",
       "      <td>1</td>\n",
       "      <td>200801</td>\n",
       "    </tr>\n",
       "    <tr>\n",
       "      <th>2</th>\n",
       "      <td>10886</td>\n",
       "      <td>13.00</td>\n",
       "      <td>40</td>\n",
       "      <td>0.0</td>\n",
       "      <td>2008-03-02</td>\n",
       "      <td>Brazil</td>\n",
       "      <td>Original Frankfurter grüne Soße</td>\n",
       "      <td>2008</td>\n",
       "      <td>Condiments</td>\n",
       "      <td>2008Q1</td>\n",
       "      <td>1</td>\n",
       "      <td>200801</td>\n",
       "    </tr>\n",
       "    <tr>\n",
       "      <th>3</th>\n",
       "      <td>10903</td>\n",
       "      <td>6.00</td>\n",
       "      <td>40</td>\n",
       "      <td>0.0</td>\n",
       "      <td>2008-03-04</td>\n",
       "      <td>Brazil</td>\n",
       "      <td>Konbu</td>\n",
       "      <td>2008</td>\n",
       "      <td>Seafood</td>\n",
       "      <td>2008Q1</td>\n",
       "      <td>1</td>\n",
       "      <td>200801</td>\n",
       "    </tr>\n",
       "    <tr>\n",
       "      <th>4</th>\n",
       "      <td>10903</td>\n",
       "      <td>21.05</td>\n",
       "      <td>21</td>\n",
       "      <td>0.0</td>\n",
       "      <td>2008-03-04</td>\n",
       "      <td>Brazil</td>\n",
       "      <td>Louisiana Fiery Hot Pepper Sauce</td>\n",
       "      <td>2008</td>\n",
       "      <td>Condiments</td>\n",
       "      <td>2008Q1</td>\n",
       "      <td>1</td>\n",
       "      <td>200801</td>\n",
       "    </tr>\n",
       "  </tbody>\n",
       "</table>\n",
       "</div>"
      ],
      "text/plain": [
       "   OrderID  UnitPrice  Quantity  Discount ShippedDate ShipCountry  \\\n",
       "0    10886      31.00        70       0.0  2008-03-02      Brazil   \n",
       "1    10886      12.50        35       0.0  2008-03-02      Brazil   \n",
       "2    10886      13.00        40       0.0  2008-03-02      Brazil   \n",
       "3    10903       6.00        40       0.0  2008-03-04      Brazil   \n",
       "4    10903      21.05        21       0.0  2008-03-04      Brazil   \n",
       "\n",
       "                        ProductName  Year        Category QuarterlyPeriod  \\\n",
       "0                             Ikura  2008         Seafood          2008Q1   \n",
       "1                 Gorgonzola Telino  2008  Dairy Products          2008Q1   \n",
       "2   Original Frankfurter grüne Soße  2008      Condiments          2008Q1   \n",
       "3                             Konbu  2008         Seafood          2008Q1   \n",
       "4  Louisiana Fiery Hot Pepper Sauce  2008      Condiments          2008Q1   \n",
       "\n",
       "   Quarter Periods  \n",
       "0        1  200801  \n",
       "1        1  200801  \n",
       "2        1  200801  \n",
       "3        1  200801  \n",
       "4        1  200801  "
      ]
     },
     "execution_count": 15,
     "metadata": {},
     "output_type": "execute_result"
    }
   ],
   "source": [
    "# -- Preview --\n",
    "foodSales.head()"
   ]
  },
  {
   "cell_type": "markdown",
   "metadata": {},
   "source": [
    "**Exercises**:  Create a new column called Month, whose values are from extracting ShippedDate\n"
   ]
  },
  {
   "cell_type": "code",
   "execution_count": 16,
   "metadata": {},
   "outputs": [
    {
     "data": {
      "text/html": [
       "<div>\n",
       "<style scoped>\n",
       "    .dataframe tbody tr th:only-of-type {\n",
       "        vertical-align: middle;\n",
       "    }\n",
       "\n",
       "    .dataframe tbody tr th {\n",
       "        vertical-align: top;\n",
       "    }\n",
       "\n",
       "    .dataframe thead th {\n",
       "        text-align: right;\n",
       "    }\n",
       "</style>\n",
       "<table border=\"1\" class=\"dataframe\">\n",
       "  <thead>\n",
       "    <tr style=\"text-align: right;\">\n",
       "      <th></th>\n",
       "      <th>OrderID</th>\n",
       "      <th>UnitPrice</th>\n",
       "      <th>Quantity</th>\n",
       "      <th>Discount</th>\n",
       "      <th>ShippedDate</th>\n",
       "      <th>ShipCountry</th>\n",
       "      <th>ProductName</th>\n",
       "      <th>Year</th>\n",
       "      <th>Category</th>\n",
       "      <th>QuarterlyPeriod</th>\n",
       "      <th>Quarter</th>\n",
       "      <th>Periods</th>\n",
       "      <th>MonthlyPeriod</th>\n",
       "    </tr>\n",
       "  </thead>\n",
       "  <tbody>\n",
       "    <tr>\n",
       "      <th>0</th>\n",
       "      <td>10886</td>\n",
       "      <td>31.00</td>\n",
       "      <td>70</td>\n",
       "      <td>0.0</td>\n",
       "      <td>2008-03-02</td>\n",
       "      <td>Brazil</td>\n",
       "      <td>Ikura</td>\n",
       "      <td>2008</td>\n",
       "      <td>Seafood</td>\n",
       "      <td>2008Q1</td>\n",
       "      <td>1</td>\n",
       "      <td>200801</td>\n",
       "      <td>2008-03</td>\n",
       "    </tr>\n",
       "    <tr>\n",
       "      <th>1</th>\n",
       "      <td>10886</td>\n",
       "      <td>12.50</td>\n",
       "      <td>35</td>\n",
       "      <td>0.0</td>\n",
       "      <td>2008-03-02</td>\n",
       "      <td>Brazil</td>\n",
       "      <td>Gorgonzola Telino</td>\n",
       "      <td>2008</td>\n",
       "      <td>Dairy Products</td>\n",
       "      <td>2008Q1</td>\n",
       "      <td>1</td>\n",
       "      <td>200801</td>\n",
       "      <td>2008-03</td>\n",
       "    </tr>\n",
       "    <tr>\n",
       "      <th>2</th>\n",
       "      <td>10886</td>\n",
       "      <td>13.00</td>\n",
       "      <td>40</td>\n",
       "      <td>0.0</td>\n",
       "      <td>2008-03-02</td>\n",
       "      <td>Brazil</td>\n",
       "      <td>Original Frankfurter grüne Soße</td>\n",
       "      <td>2008</td>\n",
       "      <td>Condiments</td>\n",
       "      <td>2008Q1</td>\n",
       "      <td>1</td>\n",
       "      <td>200801</td>\n",
       "      <td>2008-03</td>\n",
       "    </tr>\n",
       "    <tr>\n",
       "      <th>3</th>\n",
       "      <td>10903</td>\n",
       "      <td>6.00</td>\n",
       "      <td>40</td>\n",
       "      <td>0.0</td>\n",
       "      <td>2008-03-04</td>\n",
       "      <td>Brazil</td>\n",
       "      <td>Konbu</td>\n",
       "      <td>2008</td>\n",
       "      <td>Seafood</td>\n",
       "      <td>2008Q1</td>\n",
       "      <td>1</td>\n",
       "      <td>200801</td>\n",
       "      <td>2008-03</td>\n",
       "    </tr>\n",
       "    <tr>\n",
       "      <th>4</th>\n",
       "      <td>10903</td>\n",
       "      <td>21.05</td>\n",
       "      <td>21</td>\n",
       "      <td>0.0</td>\n",
       "      <td>2008-03-04</td>\n",
       "      <td>Brazil</td>\n",
       "      <td>Louisiana Fiery Hot Pepper Sauce</td>\n",
       "      <td>2008</td>\n",
       "      <td>Condiments</td>\n",
       "      <td>2008Q1</td>\n",
       "      <td>1</td>\n",
       "      <td>200801</td>\n",
       "      <td>2008-03</td>\n",
       "    </tr>\n",
       "  </tbody>\n",
       "</table>\n",
       "</div>"
      ],
      "text/plain": [
       "   OrderID  UnitPrice  Quantity  Discount ShippedDate ShipCountry  \\\n",
       "0    10886      31.00        70       0.0  2008-03-02      Brazil   \n",
       "1    10886      12.50        35       0.0  2008-03-02      Brazil   \n",
       "2    10886      13.00        40       0.0  2008-03-02      Brazil   \n",
       "3    10903       6.00        40       0.0  2008-03-04      Brazil   \n",
       "4    10903      21.05        21       0.0  2008-03-04      Brazil   \n",
       "\n",
       "                        ProductName  Year        Category QuarterlyPeriod  \\\n",
       "0                             Ikura  2008         Seafood          2008Q1   \n",
       "1                 Gorgonzola Telino  2008  Dairy Products          2008Q1   \n",
       "2   Original Frankfurter grüne Soße  2008      Condiments          2008Q1   \n",
       "3                             Konbu  2008         Seafood          2008Q1   \n",
       "4  Louisiana Fiery Hot Pepper Sauce  2008      Condiments          2008Q1   \n",
       "\n",
       "   Quarter Periods MonthlyPeriod  \n",
       "0        1  200801       2008-03  \n",
       "1        1  200801       2008-03  \n",
       "2        1  200801       2008-03  \n",
       "3        1  200801       2008-03  \n",
       "4        1  200801       2008-03  "
      ]
     },
     "execution_count": 16,
     "metadata": {},
     "output_type": "execute_result"
    }
   ],
   "source": [
    "foodSales['MonthlyPeriod'] = foodSales['ShippedDate'].dt.to_period('M')\n",
    "foodSales.head()"
   ]
  },
  {
   "cell_type": "markdown",
   "metadata": {},
   "source": [
    "# Plotting"
   ]
  },
  {
   "cell_type": "markdown",
   "metadata": {},
   "source": [
    "## Line Chart\n",
    "\n",
    "**How do the sales change over monthly periods?**"
   ]
  },
  {
   "cell_type": "code",
   "execution_count": 17,
   "metadata": {},
   "outputs": [
    {
     "data": {
      "text/html": [
       "<div>\n",
       "<style scoped>\n",
       "    .dataframe tbody tr th:only-of-type {\n",
       "        vertical-align: middle;\n",
       "    }\n",
       "\n",
       "    .dataframe tbody tr th {\n",
       "        vertical-align: top;\n",
       "    }\n",
       "\n",
       "    .dataframe thead th {\n",
       "        text-align: right;\n",
       "    }\n",
       "</style>\n",
       "<table border=\"1\" class=\"dataframe\">\n",
       "  <thead>\n",
       "    <tr style=\"text-align: right;\">\n",
       "      <th></th>\n",
       "      <th>OrderID</th>\n",
       "      <th>UnitPrice</th>\n",
       "      <th>Quantity</th>\n",
       "      <th>Discount</th>\n",
       "      <th>ShippedDate</th>\n",
       "      <th>ShipCountry</th>\n",
       "      <th>ProductName</th>\n",
       "      <th>Year</th>\n",
       "      <th>Category</th>\n",
       "      <th>QuarterlyPeriod</th>\n",
       "      <th>Quarter</th>\n",
       "      <th>Periods</th>\n",
       "      <th>MonthlyPeriod</th>\n",
       "      <th>ExtendedAmt</th>\n",
       "    </tr>\n",
       "  </thead>\n",
       "  <tbody>\n",
       "    <tr>\n",
       "      <th>0</th>\n",
       "      <td>10886</td>\n",
       "      <td>31.00</td>\n",
       "      <td>70</td>\n",
       "      <td>0.0</td>\n",
       "      <td>2008-03-02</td>\n",
       "      <td>Brazil</td>\n",
       "      <td>Ikura</td>\n",
       "      <td>2008</td>\n",
       "      <td>Seafood</td>\n",
       "      <td>2008Q1</td>\n",
       "      <td>1</td>\n",
       "      <td>200801</td>\n",
       "      <td>2008-03</td>\n",
       "      <td>2170.00</td>\n",
       "    </tr>\n",
       "    <tr>\n",
       "      <th>1</th>\n",
       "      <td>10886</td>\n",
       "      <td>12.50</td>\n",
       "      <td>35</td>\n",
       "      <td>0.0</td>\n",
       "      <td>2008-03-02</td>\n",
       "      <td>Brazil</td>\n",
       "      <td>Gorgonzola Telino</td>\n",
       "      <td>2008</td>\n",
       "      <td>Dairy Products</td>\n",
       "      <td>2008Q1</td>\n",
       "      <td>1</td>\n",
       "      <td>200801</td>\n",
       "      <td>2008-03</td>\n",
       "      <td>437.50</td>\n",
       "    </tr>\n",
       "    <tr>\n",
       "      <th>2</th>\n",
       "      <td>10886</td>\n",
       "      <td>13.00</td>\n",
       "      <td>40</td>\n",
       "      <td>0.0</td>\n",
       "      <td>2008-03-02</td>\n",
       "      <td>Brazil</td>\n",
       "      <td>Original Frankfurter grüne Soße</td>\n",
       "      <td>2008</td>\n",
       "      <td>Condiments</td>\n",
       "      <td>2008Q1</td>\n",
       "      <td>1</td>\n",
       "      <td>200801</td>\n",
       "      <td>2008-03</td>\n",
       "      <td>520.00</td>\n",
       "    </tr>\n",
       "    <tr>\n",
       "      <th>3</th>\n",
       "      <td>10903</td>\n",
       "      <td>6.00</td>\n",
       "      <td>40</td>\n",
       "      <td>0.0</td>\n",
       "      <td>2008-03-04</td>\n",
       "      <td>Brazil</td>\n",
       "      <td>Konbu</td>\n",
       "      <td>2008</td>\n",
       "      <td>Seafood</td>\n",
       "      <td>2008Q1</td>\n",
       "      <td>1</td>\n",
       "      <td>200801</td>\n",
       "      <td>2008-03</td>\n",
       "      <td>240.00</td>\n",
       "    </tr>\n",
       "    <tr>\n",
       "      <th>4</th>\n",
       "      <td>10903</td>\n",
       "      <td>21.05</td>\n",
       "      <td>21</td>\n",
       "      <td>0.0</td>\n",
       "      <td>2008-03-04</td>\n",
       "      <td>Brazil</td>\n",
       "      <td>Louisiana Fiery Hot Pepper Sauce</td>\n",
       "      <td>2008</td>\n",
       "      <td>Condiments</td>\n",
       "      <td>2008Q1</td>\n",
       "      <td>1</td>\n",
       "      <td>200801</td>\n",
       "      <td>2008-03</td>\n",
       "      <td>442.05</td>\n",
       "    </tr>\n",
       "  </tbody>\n",
       "</table>\n",
       "</div>"
      ],
      "text/plain": [
       "   OrderID  UnitPrice  Quantity  Discount ShippedDate ShipCountry  \\\n",
       "0    10886      31.00        70       0.0  2008-03-02      Brazil   \n",
       "1    10886      12.50        35       0.0  2008-03-02      Brazil   \n",
       "2    10886      13.00        40       0.0  2008-03-02      Brazil   \n",
       "3    10903       6.00        40       0.0  2008-03-04      Brazil   \n",
       "4    10903      21.05        21       0.0  2008-03-04      Brazil   \n",
       "\n",
       "                        ProductName  Year        Category QuarterlyPeriod  \\\n",
       "0                             Ikura  2008         Seafood          2008Q1   \n",
       "1                 Gorgonzola Telino  2008  Dairy Products          2008Q1   \n",
       "2   Original Frankfurter grüne Soße  2008      Condiments          2008Q1   \n",
       "3                             Konbu  2008         Seafood          2008Q1   \n",
       "4  Louisiana Fiery Hot Pepper Sauce  2008      Condiments          2008Q1   \n",
       "\n",
       "   Quarter Periods MonthlyPeriod  ExtendedAmt  \n",
       "0        1  200801       2008-03      2170.00  \n",
       "1        1  200801       2008-03       437.50  \n",
       "2        1  200801       2008-03       520.00  \n",
       "3        1  200801       2008-03       240.00  \n",
       "4        1  200801       2008-03       442.05  "
      ]
     },
     "execution_count": 17,
     "metadata": {},
     "output_type": "execute_result"
    }
   ],
   "source": [
    "# -- Calculate extended amount --\n",
    "foodSales['ExtendedAmt']=foodSales['UnitPrice']*foodSales['Quantity']\n",
    "foodSales.head()"
   ]
  },
  {
   "cell_type": "code",
   "execution_count": 18,
   "metadata": {},
   "outputs": [
    {
     "data": {
      "text/plain": [
       "MonthlyPeriod\n",
       "2006-07     2052.00\n",
       "2006-08    12024.70\n",
       "2006-09     4807.80\n",
       "2006-10    16868.00\n",
       "2006-11    13772.00\n",
       "2006-12    14171.80\n",
       "2007-01    13492.30\n",
       "2007-02    12335.00\n",
       "2007-03    15928.00\n",
       "2007-04    13931.44\n",
       "2007-05    12958.00\n",
       "2007-06    11333.10\n",
       "2007-07    17669.55\n",
       "2007-08    17159.59\n",
       "2007-09    19203.88\n",
       "2007-10    33059.05\n",
       "2007-11    19283.27\n",
       "2007-12    19770.37\n",
       "2008-01    19568.03\n",
       "2008-02    26554.21\n",
       "2008-03    23195.60\n",
       "2008-04    39571.14\n",
       "2008-05    11139.90\n",
       "2008-06      409.95\n",
       "Freq: M, Name: ExtendedAmt, dtype: float64"
      ]
     },
     "execution_count": 18,
     "metadata": {},
     "output_type": "execute_result"
    }
   ],
   "source": [
    "# -- Sum up extended amount by Periods --\n",
    "foodSales_Period=foodSales.groupby('MonthlyPeriod')['ExtendedAmt'].sum()\n",
    "foodSales_Period"
   ]
  },
  {
   "cell_type": "code",
   "execution_count": 19,
   "metadata": {},
   "outputs": [
    {
     "data": {
      "image/png": "[encoded data removed]",
      "text/plain": [
       "<Figure size 864x432 with 1 Axes>"
      ]
     },
     "metadata": {
      "needs_background": "light"
     },
     "output_type": "display_data"
    }
   ],
   "source": [
    "# -- Line chart --\n",
    "foodSales_Period.plot(title='Periodic Sales',\n",
    "                      xlabel='Period',\n",
    "                      ylabel='Sales',\n",
    "                      grid=True,\n",
    "                      rot = 45,\n",
    "                      figsize=(12,6));"
   ]
  },
  {
   "cell_type": "markdown",
   "metadata": {},
   "source": [
    "## Bar and Column Charts\n",
    "\n",
    "* **How are the sales across categories?**\n",
    "* **How are the sales across countries?** \n",
    "\n",
    "**Syntax**:\n",
    "\n",
    "    * Column chart: DataFrame.plot.bar()\n",
    "    * Bar chart: Dataframe.plot.barh()"
   ]
  },
  {
   "cell_type": "code",
   "execution_count": 20,
   "metadata": {},
   "outputs": [
    {
     "data": {
      "text/html": [
       "<div>\n",
       "<style scoped>\n",
       "    .dataframe tbody tr th:only-of-type {\n",
       "        vertical-align: middle;\n",
       "    }\n",
       "\n",
       "    .dataframe tbody tr th {\n",
       "        vertical-align: top;\n",
       "    }\n",
       "\n",
       "    .dataframe thead th {\n",
       "        text-align: right;\n",
       "    }\n",
       "</style>\n",
       "<table border=\"1\" class=\"dataframe\">\n",
       "  <thead>\n",
       "    <tr style=\"text-align: right;\">\n",
       "      <th></th>\n",
       "      <th>OrderID</th>\n",
       "      <th>UnitPrice</th>\n",
       "      <th>Quantity</th>\n",
       "      <th>Discount</th>\n",
       "      <th>ShippedDate</th>\n",
       "      <th>ShipCountry</th>\n",
       "      <th>ProductName</th>\n",
       "      <th>Year</th>\n",
       "      <th>Category</th>\n",
       "      <th>QuarterlyPeriod</th>\n",
       "      <th>Quarter</th>\n",
       "      <th>Periods</th>\n",
       "      <th>MonthlyPeriod</th>\n",
       "      <th>ExtendedAmt</th>\n",
       "    </tr>\n",
       "  </thead>\n",
       "  <tbody>\n",
       "    <tr>\n",
       "      <th>0</th>\n",
       "      <td>10886</td>\n",
       "      <td>31.00</td>\n",
       "      <td>70</td>\n",
       "      <td>0.0</td>\n",
       "      <td>2008-03-02</td>\n",
       "      <td>Brazil</td>\n",
       "      <td>Ikura</td>\n",
       "      <td>2008</td>\n",
       "      <td>Seafood</td>\n",
       "      <td>2008Q1</td>\n",
       "      <td>1</td>\n",
       "      <td>200801</td>\n",
       "      <td>2008-03</td>\n",
       "      <td>2170.00</td>\n",
       "    </tr>\n",
       "    <tr>\n",
       "      <th>1</th>\n",
       "      <td>10886</td>\n",
       "      <td>12.50</td>\n",
       "      <td>35</td>\n",
       "      <td>0.0</td>\n",
       "      <td>2008-03-02</td>\n",
       "      <td>Brazil</td>\n",
       "      <td>Gorgonzola Telino</td>\n",
       "      <td>2008</td>\n",
       "      <td>Dairy Products</td>\n",
       "      <td>2008Q1</td>\n",
       "      <td>1</td>\n",
       "      <td>200801</td>\n",
       "      <td>2008-03</td>\n",
       "      <td>437.50</td>\n",
       "    </tr>\n",
       "    <tr>\n",
       "      <th>2</th>\n",
       "      <td>10886</td>\n",
       "      <td>13.00</td>\n",
       "      <td>40</td>\n",
       "      <td>0.0</td>\n",
       "      <td>2008-03-02</td>\n",
       "      <td>Brazil</td>\n",
       "      <td>Original Frankfurter grüne Soße</td>\n",
       "      <td>2008</td>\n",
       "      <td>Condiments</td>\n",
       "      <td>2008Q1</td>\n",
       "      <td>1</td>\n",
       "      <td>200801</td>\n",
       "      <td>2008-03</td>\n",
       "      <td>520.00</td>\n",
       "    </tr>\n",
       "    <tr>\n",
       "      <th>3</th>\n",
       "      <td>10903</td>\n",
       "      <td>6.00</td>\n",
       "      <td>40</td>\n",
       "      <td>0.0</td>\n",
       "      <td>2008-03-04</td>\n",
       "      <td>Brazil</td>\n",
       "      <td>Konbu</td>\n",
       "      <td>2008</td>\n",
       "      <td>Seafood</td>\n",
       "      <td>2008Q1</td>\n",
       "      <td>1</td>\n",
       "      <td>200801</td>\n",
       "      <td>2008-03</td>\n",
       "      <td>240.00</td>\n",
       "    </tr>\n",
       "    <tr>\n",
       "      <th>4</th>\n",
       "      <td>10903</td>\n",
       "      <td>21.05</td>\n",
       "      <td>21</td>\n",
       "      <td>0.0</td>\n",
       "      <td>2008-03-04</td>\n",
       "      <td>Brazil</td>\n",
       "      <td>Louisiana Fiery Hot Pepper Sauce</td>\n",
       "      <td>2008</td>\n",
       "      <td>Condiments</td>\n",
       "      <td>2008Q1</td>\n",
       "      <td>1</td>\n",
       "      <td>200801</td>\n",
       "      <td>2008-03</td>\n",
       "      <td>442.05</td>\n",
       "    </tr>\n",
       "  </tbody>\n",
       "</table>\n",
       "</div>"
      ],
      "text/plain": [
       "   OrderID  UnitPrice  Quantity  Discount ShippedDate ShipCountry  \\\n",
       "0    10886      31.00        70       0.0  2008-03-02      Brazil   \n",
       "1    10886      12.50        35       0.0  2008-03-02      Brazil   \n",
       "2    10886      13.00        40       0.0  2008-03-02      Brazil   \n",
       "3    10903       6.00        40       0.0  2008-03-04      Brazil   \n",
       "4    10903      21.05        21       0.0  2008-03-04      Brazil   \n",
       "\n",
       "                        ProductName  Year        Category QuarterlyPeriod  \\\n",
       "0                             Ikura  2008         Seafood          2008Q1   \n",
       "1                 Gorgonzola Telino  2008  Dairy Products          2008Q1   \n",
       "2   Original Frankfurter grüne Soße  2008      Condiments          2008Q1   \n",
       "3                             Konbu  2008         Seafood          2008Q1   \n",
       "4  Louisiana Fiery Hot Pepper Sauce  2008      Condiments          2008Q1   \n",
       "\n",
       "   Quarter Periods MonthlyPeriod  ExtendedAmt  \n",
       "0        1  200801       2008-03      2170.00  \n",
       "1        1  200801       2008-03       437.50  \n",
       "2        1  200801       2008-03       520.00  \n",
       "3        1  200801       2008-03       240.00  \n",
       "4        1  200801       2008-03       442.05  "
      ]
     },
     "execution_count": 20,
     "metadata": {},
     "output_type": "execute_result"
    }
   ],
   "source": [
    "foodSales.head()"
   ]
  },
  {
   "cell_type": "code",
   "execution_count": 21,
   "metadata": {},
   "outputs": [
    {
     "data": {
      "text/plain": [
       "Category\n",
       "Condiments         66152.60\n",
       "Dairy Products    138165.60\n",
       "Meat/Poultry       96676.28\n",
       "Seafood            89264.20\n",
       "Name: ExtendedAmt, dtype: float64"
      ]
     },
     "execution_count": 21,
     "metadata": {},
     "output_type": "execute_result"
    }
   ],
   "source": [
    "# -- Calcualte total sales of different categories --\n",
    "foodSales_category = foodSales.groupby('Category')['ExtendedAmt'].sum()\n",
    "foodSales_category"
   ]
  },
  {
   "cell_type": "code",
   "execution_count": 22,
   "metadata": {},
   "outputs": [
    {
     "data": {
      "image/png": "[encoded data removed]",
      "text/plain": [
       "<Figure size 864x432 with 1 Axes>"
      ]
     },
     "metadata": {
      "needs_background": "light"
     },
     "output_type": "display_data"
    }
   ],
   "source": [
    "# -- Plot a column chart --\n",
    "foodSales_category.plot.bar(title='Sales of Categories',\n",
    "                           xlabel='Category',\n",
    "                           ylabel='Sales',\n",
    "                            rot=45,\n",
    "                           figsize=(12,6));"
   ]
  },
  {
   "cell_type": "markdown",
   "metadata": {},
   "source": [
    "### Add Data Labels"
   ]
  },
  {
   "cell_type": "code",
   "execution_count": 23,
   "metadata": {},
   "outputs": [
    {
     "data": {
      "image/png": "[encoded data removed]",
      "text/plain": [
       "<Figure size 864x432 with 1 Axes>"
      ]
     },
     "metadata": {
      "needs_background": "light"
     },
     "output_type": "display_data"
    }
   ],
   "source": [
    "# -- Plot a column chart --\n",
    "fig = foodSales_category.plot.bar(title='Sales of Categories',\n",
    "                           xlabel='Category',\n",
    "                           ylabel='Sales',\n",
    "                            rot=45,\n",
    "                           figsize=(12,6))\n",
    "fig.bar_label(fig.containers[0],label_type='edge');"
   ]
  },
  {
   "cell_type": "code",
   "execution_count": 24,
   "metadata": {},
   "outputs": [
    {
     "data": {
      "image/png": "[encoded data removed]",
      "text/plain": [
       "<Figure size 864x432 with 1 Axes>"
      ]
     },
     "metadata": {
      "needs_background": "light"
     },
     "output_type": "display_data"
    }
   ],
   "source": [
    "# -- Plot a column chart --\n",
    "fig = foodSales_category.plot.bar(title='Sales of Categories',\n",
    "                           xlabel='Category',\n",
    "                           ylabel='Sales',\n",
    "                            rot=45,\n",
    "                           figsize=(12,6))\n",
    "for container in fig.containers:\n",
    "    fig.bar_label(container)"
   ]
  },
  {
   "cell_type": "markdown",
   "metadata": {},
   "source": [
    "### Clustered Columns"
   ]
  },
  {
   "cell_type": "code",
   "execution_count": 25,
   "metadata": {},
   "outputs": [],
   "source": [
    "import statistics as s"
   ]
  },
  {
   "cell_type": "code",
   "execution_count": 26,
   "metadata": {},
   "outputs": [],
   "source": [
    "# -- Add a fictitious budget sales --\n",
    "foodSales['BudgetSales']=foodSales['ExtendedAmt']*s.NormalDist(mu=1,sigma=0.2).samples(1)"
   ]
  },
  {
   "cell_type": "code",
   "execution_count": 27,
   "metadata": {},
   "outputs": [
    {
     "data": {
      "text/html": [
       "<div>\n",
       "<style scoped>\n",
       "    .dataframe tbody tr th:only-of-type {\n",
       "        vertical-align: middle;\n",
       "    }\n",
       "\n",
       "    .dataframe tbody tr th {\n",
       "        vertical-align: top;\n",
       "    }\n",
       "\n",
       "    .dataframe thead th {\n",
       "        text-align: right;\n",
       "    }\n",
       "</style>\n",
       "<table border=\"1\" class=\"dataframe\">\n",
       "  <thead>\n",
       "    <tr style=\"text-align: right;\">\n",
       "      <th></th>\n",
       "      <th>OrderID</th>\n",
       "      <th>UnitPrice</th>\n",
       "      <th>Quantity</th>\n",
       "      <th>Discount</th>\n",
       "      <th>ShippedDate</th>\n",
       "      <th>ShipCountry</th>\n",
       "      <th>ProductName</th>\n",
       "      <th>Year</th>\n",
       "      <th>Category</th>\n",
       "      <th>QuarterlyPeriod</th>\n",
       "      <th>Quarter</th>\n",
       "      <th>Periods</th>\n",
       "      <th>MonthlyPeriod</th>\n",
       "      <th>ExtendedAmt</th>\n",
       "      <th>BudgetSales</th>\n",
       "    </tr>\n",
       "  </thead>\n",
       "  <tbody>\n",
       "    <tr>\n",
       "      <th>0</th>\n",
       "      <td>10886</td>\n",
       "      <td>31.00</td>\n",
       "      <td>70</td>\n",
       "      <td>0.0</td>\n",
       "      <td>2008-03-02</td>\n",
       "      <td>Brazil</td>\n",
       "      <td>Ikura</td>\n",
       "      <td>2008</td>\n",
       "      <td>Seafood</td>\n",
       "      <td>2008Q1</td>\n",
       "      <td>1</td>\n",
       "      <td>200801</td>\n",
       "      <td>2008-03</td>\n",
       "      <td>2170.00</td>\n",
       "      <td>2473.873482</td>\n",
       "    </tr>\n",
       "    <tr>\n",
       "      <th>1</th>\n",
       "      <td>10886</td>\n",
       "      <td>12.50</td>\n",
       "      <td>35</td>\n",
       "      <td>0.0</td>\n",
       "      <td>2008-03-02</td>\n",
       "      <td>Brazil</td>\n",
       "      <td>Gorgonzola Telino</td>\n",
       "      <td>2008</td>\n",
       "      <td>Dairy Products</td>\n",
       "      <td>2008Q1</td>\n",
       "      <td>1</td>\n",
       "      <td>200801</td>\n",
       "      <td>2008-03</td>\n",
       "      <td>437.50</td>\n",
       "      <td>498.764815</td>\n",
       "    </tr>\n",
       "    <tr>\n",
       "      <th>2</th>\n",
       "      <td>10886</td>\n",
       "      <td>13.00</td>\n",
       "      <td>40</td>\n",
       "      <td>0.0</td>\n",
       "      <td>2008-03-02</td>\n",
       "      <td>Brazil</td>\n",
       "      <td>Original Frankfurter grüne Soße</td>\n",
       "      <td>2008</td>\n",
       "      <td>Condiments</td>\n",
       "      <td>2008Q1</td>\n",
       "      <td>1</td>\n",
       "      <td>200801</td>\n",
       "      <td>2008-03</td>\n",
       "      <td>520.00</td>\n",
       "      <td>592.817609</td>\n",
       "    </tr>\n",
       "    <tr>\n",
       "      <th>3</th>\n",
       "      <td>10903</td>\n",
       "      <td>6.00</td>\n",
       "      <td>40</td>\n",
       "      <td>0.0</td>\n",
       "      <td>2008-03-04</td>\n",
       "      <td>Brazil</td>\n",
       "      <td>Konbu</td>\n",
       "      <td>2008</td>\n",
       "      <td>Seafood</td>\n",
       "      <td>2008Q1</td>\n",
       "      <td>1</td>\n",
       "      <td>200801</td>\n",
       "      <td>2008-03</td>\n",
       "      <td>240.00</td>\n",
       "      <td>273.608127</td>\n",
       "    </tr>\n",
       "    <tr>\n",
       "      <th>4</th>\n",
       "      <td>10903</td>\n",
       "      <td>21.05</td>\n",
       "      <td>21</td>\n",
       "      <td>0.0</td>\n",
       "      <td>2008-03-04</td>\n",
       "      <td>Brazil</td>\n",
       "      <td>Louisiana Fiery Hot Pepper Sauce</td>\n",
       "      <td>2008</td>\n",
       "      <td>Condiments</td>\n",
       "      <td>2008Q1</td>\n",
       "      <td>1</td>\n",
       "      <td>200801</td>\n",
       "      <td>2008-03</td>\n",
       "      <td>442.05</td>\n",
       "      <td>503.951969</td>\n",
       "    </tr>\n",
       "  </tbody>\n",
       "</table>\n",
       "</div>"
      ],
      "text/plain": [
       "   OrderID  UnitPrice  Quantity  Discount ShippedDate ShipCountry  \\\n",
       "0    10886      31.00        70       0.0  2008-03-02      Brazil   \n",
       "1    10886      12.50        35       0.0  2008-03-02      Brazil   \n",
       "2    10886      13.00        40       0.0  2008-03-02      Brazil   \n",
       "3    10903       6.00        40       0.0  2008-03-04      Brazil   \n",
       "4    10903      21.05        21       0.0  2008-03-04      Brazil   \n",
       "\n",
       "                        ProductName  Year        Category QuarterlyPeriod  \\\n",
       "0                             Ikura  2008         Seafood          2008Q1   \n",
       "1                 Gorgonzola Telino  2008  Dairy Products          2008Q1   \n",
       "2   Original Frankfurter grüne Soße  2008      Condiments          2008Q1   \n",
       "3                             Konbu  2008         Seafood          2008Q1   \n",
       "4  Louisiana Fiery Hot Pepper Sauce  2008      Condiments          2008Q1   \n",
       "\n",
       "   Quarter Periods MonthlyPeriod  ExtendedAmt  BudgetSales  \n",
       "0        1  200801       2008-03      2170.00  2473.873482  \n",
       "1        1  200801       2008-03       437.50   498.764815  \n",
       "2        1  200801       2008-03       520.00   592.817609  \n",
       "3        1  200801       2008-03       240.00   273.608127  \n",
       "4        1  200801       2008-03       442.05   503.951969  "
      ]
     },
     "execution_count": 27,
     "metadata": {},
     "output_type": "execute_result"
    }
   ],
   "source": [
    "foodSales.head()"
   ]
  },
  {
   "cell_type": "code",
   "execution_count": 28,
   "metadata": {},
   "outputs": [],
   "source": [
    "# -- Sum up ExtendedAmt and BudgetSales by Quarterly Periods --\n",
    "foodSales_B_A = foodSales.groupby('QuarterlyPeriod')[['ExtendedAmt','BudgetSales']].sum()"
   ]
  },
  {
   "cell_type": "code",
   "execution_count": 29,
   "metadata": {},
   "outputs": [
    {
     "data": {
      "text/html": [
       "<div>\n",
       "<style scoped>\n",
       "    .dataframe tbody tr th:only-of-type {\n",
       "        vertical-align: middle;\n",
       "    }\n",
       "\n",
       "    .dataframe tbody tr th {\n",
       "        vertical-align: top;\n",
       "    }\n",
       "\n",
       "    .dataframe thead th {\n",
       "        text-align: right;\n",
       "    }\n",
       "</style>\n",
       "<table border=\"1\" class=\"dataframe\">\n",
       "  <thead>\n",
       "    <tr style=\"text-align: right;\">\n",
       "      <th></th>\n",
       "      <th>ExtendedAmt</th>\n",
       "      <th>BudgetSales</th>\n",
       "    </tr>\n",
       "    <tr>\n",
       "      <th>QuarterlyPeriod</th>\n",
       "      <th></th>\n",
       "      <th></th>\n",
       "    </tr>\n",
       "  </thead>\n",
       "  <tbody>\n",
       "    <tr>\n",
       "      <th>2006Q3</th>\n",
       "      <td>18884.50</td>\n",
       "      <td>21528.969480</td>\n",
       "    </tr>\n",
       "    <tr>\n",
       "      <th>2006Q4</th>\n",
       "      <td>44811.80</td>\n",
       "      <td>51086.969448</td>\n",
       "    </tr>\n",
       "    <tr>\n",
       "      <th>2007Q1</th>\n",
       "      <td>41755.30</td>\n",
       "      <td>47602.455947</td>\n",
       "    </tr>\n",
       "    <tr>\n",
       "      <th>2007Q2</th>\n",
       "      <td>38222.54</td>\n",
       "      <td>43574.989918</td>\n",
       "    </tr>\n",
       "    <tr>\n",
       "      <th>2007Q3</th>\n",
       "      <td>54033.02</td>\n",
       "      <td>61599.472504</td>\n",
       "    </tr>\n",
       "    <tr>\n",
       "      <th>2007Q4</th>\n",
       "      <td>72112.69</td>\n",
       "      <td>82210.908530</td>\n",
       "    </tr>\n",
       "    <tr>\n",
       "      <th>2008Q1</th>\n",
       "      <td>69317.84</td>\n",
       "      <td>79024.684889</td>\n",
       "    </tr>\n",
       "    <tr>\n",
       "      <th>2008Q2</th>\n",
       "      <td>51120.99</td>\n",
       "      <td>58279.659694</td>\n",
       "    </tr>\n",
       "  </tbody>\n",
       "</table>\n",
       "</div>"
      ],
      "text/plain": [
       "                 ExtendedAmt   BudgetSales\n",
       "QuarterlyPeriod                           \n",
       "2006Q3              18884.50  21528.969480\n",
       "2006Q4              44811.80  51086.969448\n",
       "2007Q1              41755.30  47602.455947\n",
       "2007Q2              38222.54  43574.989918\n",
       "2007Q3              54033.02  61599.472504\n",
       "2007Q4              72112.69  82210.908530\n",
       "2008Q1              69317.84  79024.684889\n",
       "2008Q2              51120.99  58279.659694"
      ]
     },
     "execution_count": 29,
     "metadata": {},
     "output_type": "execute_result"
    }
   ],
   "source": [
    "foodSales_B_A"
   ]
  },
  {
   "cell_type": "code",
   "execution_count": 30,
   "metadata": {},
   "outputs": [
    {
     "data": {
      "image/png": "[encoded data removed]",
      "text/plain": [
       "<Figure size 1008x432 with 1 Axes>"
      ]
     },
     "metadata": {
      "needs_background": "light"
     },
     "output_type": "display_data"
    }
   ],
   "source": [
    "# -- Plot clustered columns --\n",
    "ax = foodSales_B_A.plot.bar(title='Actual vs. Budget Sales',\n",
    "                            xlabel = 'Quarterly Period',\n",
    "                            ylabel = 'Sales',\n",
    "                            grid = True,\n",
    "                            figsize=(14,6)\n",
    "                           )\n",
    "ax.bar_label(ax.containers[0],label_type='center',rotation=90)\n",
    "ax.bar_label(ax.containers[1],label_type='center',rotation=90);"
   ]
  },
  {
   "cell_type": "markdown",
   "metadata": {},
   "source": [
    "**Exercise**:\n",
    "\n",
    "* Plot the foodSales_category in bar chart. "
   ]
  },
  {
   "cell_type": "code",
   "execution_count": 31,
   "metadata": {},
   "outputs": [
    {
     "data": {
      "image/png": "[encoded data removed]",
      "text/plain": [
       "<Figure size 720x432 with 1 Axes>"
      ]
     },
     "metadata": {
      "needs_background": "light"
     },
     "output_type": "display_data"
    }
   ],
   "source": [
    "# -- What is the breakdown of category? \n",
    "foodSales_category.plot.barh(title='Sales of Categories',\n",
    "                           ylabel='Category',\n",
    "                           xlabel='Sales',\n",
    "                            rot=45,\n",
    "                             grid=True,\n",
    "                           figsize=(10,6));"
   ]
  },
  {
   "cell_type": "markdown",
   "metadata": {},
   "source": [
    "**Exercise** \n",
    "\n",
    "**How are the sales across countries?**\n",
    "\n",
    "    * You need to group the data by country and sum up the extended amount. \n",
    "    * Then, plot the groupped results. "
   ]
  },
  {
   "cell_type": "code",
   "execution_count": 32,
   "metadata": {},
   "outputs": [
    {
     "data": {
      "text/plain": [
       "ShipCountry\n",
       "Brazil      50380.10\n",
       "Canada      24324.90\n",
       "Denmark     15210.25\n",
       "France      43349.66\n",
       "Germany    117717.54\n",
       "Italy        8751.65\n",
       "USA        130524.58\n",
       "Name: ExtendedAmt, dtype: float64"
      ]
     },
     "execution_count": 32,
     "metadata": {},
     "output_type": "execute_result"
    }
   ],
   "source": [
    "foodSales_country = foodSales.groupby('ShipCountry')['ExtendedAmt'].sum()\n",
    "foodSales_country"
   ]
  },
  {
   "cell_type": "code",
   "execution_count": 33,
   "metadata": {},
   "outputs": [
    {
     "data": {
      "image/png": "[encoded data removed]",
      "text/plain": [
       "<Figure size 720x432 with 1 Axes>"
      ]
     },
     "metadata": {
      "needs_background": "light"
     },
     "output_type": "display_data"
    }
   ],
   "source": [
    "foodSales_country.plot.barh(title = 'Sales Across Countries',\n",
    "                           xlabel = 'Extended Amount',\n",
    "                           ylabel = 'Country',\n",
    "                           grid = True,\n",
    "                           figsize = (10,6));"
   ]
  },
  {
   "cell_type": "markdown",
   "metadata": {},
   "source": [
    "## Historgram Chart"
   ]
  },
  {
   "cell_type": "code",
   "execution_count": 34,
   "metadata": {},
   "outputs": [
    {
     "data": {
      "image/png": "[encoded data removed]",
      "text/plain": [
       "<Figure size 864x432 with 1 Axes>"
      ]
     },
     "metadata": {
      "needs_background": "light"
     },
     "output_type": "display_data"
    }
   ],
   "source": [
    "# -- How are the sales distributed? --\n",
    "# -- Use 8 bins, alpha = 0.5, rwidthe = 0.8 \n",
    "foodSales['ExtendedAmt'].plot.hist(bins=8, \n",
    "                                   rwidth = 0.8,\n",
    "                                   alpha=0.5,\n",
    "                                   title='Distribution of Sales',\n",
    "                                   grid = True,\n",
    "                                   figsize=(12,6));"
   ]
  },
  {
   "cell_type": "markdown",
   "metadata": {},
   "source": [
    "## Scatter Plot\n",
    "* Used for two variables\n",
    "* To show how one is affected by the other\n",
    "\n",
    "**Extended Amount  vs. Quantity**\n",
    "\n",
    "**Note**: These two variables are clearly related. So, the example is for illustration only. It doesn't really mean very much!!!"
   ]
  },
  {
   "cell_type": "code",
   "execution_count": 35,
   "metadata": {},
   "outputs": [
    {
     "data": {
      "text/plain": [
       "Index(['OrderID', 'UnitPrice', 'Quantity', 'Discount', 'ShippedDate',\n",
       "       'ShipCountry', 'ProductName', 'Year', 'Category', 'QuarterlyPeriod',\n",
       "       'Quarter', 'Periods', 'MonthlyPeriod', 'ExtendedAmt', 'BudgetSales'],\n",
       "      dtype='object')"
      ]
     },
     "execution_count": 35,
     "metadata": {},
     "output_type": "execute_result"
    }
   ],
   "source": [
    "foodSales.columns"
   ]
  },
  {
   "cell_type": "code",
   "execution_count": 36,
   "metadata": {},
   "outputs": [
    {
     "data": {
      "image/png": "[encoded data removed]",
      "text/plain": [
       "<Figure size 864x432 with 1 Axes>"
      ]
     },
     "metadata": {
      "needs_background": "light"
     },
     "output_type": "display_data"
    }
   ],
   "source": [
    "# --Quantity vs. Extended Amount\n",
    "\n",
    "Qty_ExtendedAmt =foodSales[['Quantity','ExtendedAmt','Category']]\n",
    "Qty_ExtendedAmt.plot.scatter(x='Quantity',\n",
    "                             y='ExtendedAmt',\n",
    "                             title='Quantity vs. ExtendedAmt',\n",
    "                             figsize=(12,6),\n",
    "                             grid=True);"
   ]
  },
  {
   "cell_type": "code",
   "execution_count": 37,
   "metadata": {},
   "outputs": [
    {
     "data": {
      "text/plain": [
       "array(['Seafood', 'Dairy Products', 'Condiments', 'Meat/Poultry'],\n",
       "      dtype=object)"
      ]
     },
     "execution_count": 37,
     "metadata": {},
     "output_type": "execute_result"
    }
   ],
   "source": [
    "foodSales['Category'].unique()"
   ]
  },
  {
   "cell_type": "code",
   "execution_count": 38,
   "metadata": {},
   "outputs": [
    {
     "data": {
      "image/png": "[encoded data removed]",
      "text/plain": [
       "<Figure size 720x576 with 1 Axes>"
      ]
     },
     "metadata": {
      "needs_background": "light"
     },
     "output_type": "display_data"
    }
   ],
   "source": [
    "import matplotlib.patches as mpatches\n",
    "\n",
    "category = ['Seafood', 'Dairy Products', 'Condiments', 'Meat/Poultry']\n",
    "colors = ['#ff7b25','#d64161','#82b74b','#82b7ff']\n",
    "\n",
    "Qty_ExtendedAmt =foodSales[['Quantity','ExtendedAmt','Category']]\n",
    "\n",
    "# color_choice = lambda x: colors[0] if x=='Seafood' else (colors[1] if x=='Dairy Products'),\n",
    "\n",
    "Qty_ExtendedAmt.plot.scatter(x='Quantity',\n",
    "                             y='ExtendedAmt',\n",
    "                             title='Quantity vs. ExtendedAmt',\n",
    "                             c = Qty_ExtendedAmt['Category'].apply(lambda x: colors[category.index(x)]),\n",
    "                             figsize=(10,8))\n",
    "\n",
    "Seafood = mpatches.Patch(color = '#ff7b25', label = 'Seafood')\n",
    "Dairy = mpatches.Patch(color = '#d64161', label = 'Dairy Products')\n",
    "Condiment = mpatches.Patch(color = '#82b74b', label = 'Condiments')\n",
    "Meat = mpatches.Patch(color = '#82b7ff', label = 'Meat/Poultry')\n",
    "\n",
    "plt.legend(handles = [Seafood, Dairy, Condiment, Meat],loc='best');"
   ]
  },
  {
   "cell_type": "markdown",
   "metadata": {},
   "source": [
    "## Box Chart"
   ]
  },
  {
   "cell_type": "code",
   "execution_count": 39,
   "metadata": {},
   "outputs": [
    {
     "data": {
      "image/png": "[encoded data removed]",
      "text/plain": [
       "<Figure size 720x576 with 1 Axes>"
      ]
     },
     "metadata": {
      "needs_background": "light"
     },
     "output_type": "display_data"
    }
   ],
   "source": [
    "# -- How are the Sales  column distributed?\n",
    "# -- Use Box chart\n",
    "foodSales['ExtendedAmt'].plot.box(title='Box Chart of Extended Amount',\n",
    "                                   grid=True,\n",
    "                                  figsize=(10,8));"
   ]
  },
  {
   "cell_type": "markdown",
   "metadata": {},
   "source": [
    "## Pie Chart\n",
    "\n",
    "**What are the sales percentage of different categories against the total sales?**"
   ]
  },
  {
   "cell_type": "code",
   "execution_count": 40,
   "metadata": {},
   "outputs": [
    {
     "data": {
      "text/plain": [
       "Category\n",
       "Condiments         66152.60\n",
       "Dairy Products    138165.60\n",
       "Meat/Poultry       96676.28\n",
       "Seafood            89264.20\n",
       "Name: ExtendedAmt, dtype: float64"
      ]
     },
     "execution_count": 40,
     "metadata": {},
     "output_type": "execute_result"
    }
   ],
   "source": [
    "foodSales_category"
   ]
  },
  {
   "cell_type": "code",
   "execution_count": 41,
   "metadata": {
    "scrolled": false
   },
   "outputs": [
    {
     "data": {
      "image/png": "[encoded data removed]",
      "text/plain": [
       "<Figure size 864x432 with 1 Axes>"
      ]
     },
     "metadata": {},
     "output_type": "display_data"
    }
   ],
   "source": [
    "# -- Use pie chart to show the percentage of Category --\n",
    "foodSales_category.plot.pie(title='Pie of Category',\n",
    "                            legend='best',\n",
    "                            autopct='%1.1f%%',\n",
    "                            explode=[0.0,0.01,0.0,0.0],\n",
    "                            figsize=(12,6));"
   ]
  }
 ],
 "metadata": {
  "kernelspec": {
   "display_name": "Python 3 (ipykernel)",
   "language": "python",
   "name": "python3"
  },
  "language_info": {
   "codemirror_mode": {
    "name": "ipython",
    "version": 3
   },
   "file_extension": ".py",
   "mimetype": "text/x-python",
   "name": "python",
   "nbconvert_exporter": "python",
   "pygments_lexer": "ipython3",
   "version": "3.8.3"
  },
  "toc": {
   "base_numbering": 1,
   "nav_menu": {},
   "number_sections": true,
   "sideBar": true,
   "skip_h1_title": false,
   "title_cell": "Table of Contents",
   "title_sidebar": "Contents",
   "toc_cell": false,
   "toc_position": {
    "height": "calc(100% - 180px)",
    "left": "10px",
    "top": "150px",
    "width": "200.82px"
   },
   "toc_section_display": true,
   "toc_window_display": true
  }
 },
 "nbformat": 4,
 "nbformat_minor": 2
}
