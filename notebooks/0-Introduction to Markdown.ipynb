{
 "cells": [
  {
   "cell_type": "markdown",
   "metadata": {},
   "source": [
    "# Introduction to Markdown\n",
    "\n",
    "* **Section**: Section-01, Section-02\n",
    "* **Author**: John Doe\n",
    "* **Date**: mm/dd/yyyy\n",
    "* **Purpose**: This note introduces syntax of a few basic tags of markdown language"
   ]
  },
  {
   "cell_type": "markdown",
   "metadata": {},
   "source": [
    "# Markdown\n",
    "* Reference: https://www.tutorialspoint.com/jupyter/jupyter_notebook_markdown_cells.htm\n",
    "* Markdown is a lightweight version of markup language that is popular in the field of data science\n",
    "* Syntax:\n",
    "    - Markdown style\n",
    "    - HTML style\n",
    "* Components\n",
    "    - headings\n",
    "    - lists\n",
    "    - table\n",
    "    - italic and bold\n",
    "* <a href='https://rmd4sci.njtierney.com/math'>Formula Markdown</a> "
   ]
  },
  {
   "cell_type": "markdown",
   "metadata": {},
   "source": [
    "# First Level Heading\n",
    "## Second Level Heading\n",
    "### Third Level Heading\n",
    "#### Fourth Level Heading\n",
    " "
   ]
  },
  {
   "cell_type": "markdown",
   "metadata": {},
   "source": [
    "# List\n",
    "\n",
    "* First level bullet points\n",
    "    * second level bullet points\n",
    "    * second level bullet points\n",
    "* First level bullet points\n",
    "    * second level bullet points\n",
    "    * second level bullet points"
   ]
  },
  {
   "cell_type": "markdown",
   "metadata": {},
   "source": [
    "# Ordered List\n",
    "1. First level bullet points\n",
    "    1. second level bullet points\n",
    "    1. second level bullet points\n",
    "1. First level bullet points\n",
    "    1. second level bullet points\n",
    "    1. second level bullet points"
   ]
  },
  {
   "cell_type": "markdown",
   "metadata": {},
   "source": [
    "# Emphasis\n",
    "\n",
    "**Note**: Here is a note. "
   ]
  },
  {
   "cell_type": "markdown",
   "metadata": {},
   "source": [
    "# Table\n",
    "\n",
    "|Heading1 | Heading2|\n",
    "|--|:--|\n",
    "np.mean() |\tCompute the arithmetic mean along the specified axis.\n",
    "np.std()  |\tCompute the standard deviation along the specified axis.\n",
    "np.var()  |\tCompute the variance along the specified axis.\n",
    "np.sum()  |\tSum of array elements over a given axis."
   ]
  },
  {
   "cell_type": "code",
   "execution_count": null,
   "metadata": {},
   "outputs": [],
   "source": []
  },
  {
   "cell_type": "markdown",
   "metadata": {},
   "source": [
    "$$\n",
    "Pr(\\theta | y) = \\frac{Pr(y | \\theta) Pr(\\theta)}{Pr(y)}\n",
    "$$"
   ]
  },
  {
   "cell_type": "code",
   "execution_count": null,
   "metadata": {},
   "outputs": [],
   "source": [
    "$$\n",
    "Pr(\\theta | y) = \\frac{Pr(y | \\theta) Pr(\\theta)}{Pr(y)}\n",
    "$$"
   ]
  },
  {
   "cell_type": "code",
   "execution_count": null,
   "metadata": {},
   "outputs": [],
   "source": []
  }
 ],
 "metadata": {
  "anaconda-cloud": {},
  "kernelspec": {
   "display_name": "Python 3 (ipykernel)",
   "language": "python",
   "name": "python3"
  },
  "language_info": {
   "codemirror_mode": {
    "name": "ipython",
    "version": 3
   },
   "file_extension": ".py",
   "mimetype": "text/x-python",
   "name": "python",
   "nbconvert_exporter": "python",
   "pygments_lexer": "ipython3",
   "version": "3.8.3"
  },
  "toc": {
   "base_numbering": 1,
   "nav_menu": {},
   "number_sections": true,
   "sideBar": true,
   "skip_h1_title": false,
   "title_cell": "Table of Contents",
   "title_sidebar": "Contents",
   "toc_cell": false,
   "toc_position": {
    "height": "calc(100% - 180px)",
    "left": "10px",
    "top": "150px",
    "width": "309.163px"
   },
   "toc_section_display": true,
   "toc_window_display": true
  }
 },
 "nbformat": 4,
 "nbformat_minor": 1
}
