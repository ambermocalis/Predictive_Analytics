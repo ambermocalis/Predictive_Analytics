{
 "cells": [
  {
   "cell_type": "markdown",
   "id": "8aeee2ad",
   "metadata": {},
   "source": [
    "# An Assessment\n",
    "* **Note**: \n",
    "    * Please rename the file to jdoe.ipynb. Here jdoe is your first name initial + last name. The file name is used to avoid writing over only. It doesn't reflect any identification.  \n",
    "    * This is not a test, or an assigment. Instead, it is designed to assess your knowledge and skills of pre-requisite to the course. \n",
    "    * The result of the assessment will NOT be counted toward your final performance. The results will help me to understand your background as a whole and, accordingly, I can adjust the content/schedule to help you to learn better. "
   ]
  },
  {
   "cell_type": "markdown",
   "id": "c862925d",
   "metadata": {},
   "source": [
    "# Programming Concepts\n",
    "\n"
   ]
  },
  {
   "cell_type": "markdown",
   "id": "24d31675",
   "metadata": {},
   "source": [
    "## Data Types and Operators\n",
    "\n",
    "**Write a program to calculate the extended amount of a purchased item.**\n",
    "\n",
    "* **Tasks**:\n",
    "    * Print out five products: Apple, Banana, Cherry, Dates and Eggfruits. \n",
    "    * Ask the user to enter one of the five products\n",
    "    * Ask the user to enter the purchased quantity of the product the user enters. \n",
    "    * Ask the user to enter the price of the product\n",
    "    * Calculate the extended amount of the purchased product, which is the product of quantity and price\n",
    "    * Print the product name, quantity, price and the extended amount. "
   ]
  },
  {
   "cell_type": "code",
   "execution_count": null,
   "id": "9e90b80e",
   "metadata": {},
   "outputs": [],
   "source": [
    "# -- print the five products --\n"
   ]
  },
  {
   "cell_type": "code",
   "execution_count": null,
   "id": "40cdc2a2",
   "metadata": {},
   "outputs": [],
   "source": [
    "# -- Ask the user to enter one of the above products --\n"
   ]
  },
  {
   "cell_type": "code",
   "execution_count": null,
   "id": "7f4763e3",
   "metadata": {},
   "outputs": [],
   "source": [
    "# -- Ask the user to enter the purchased quantity --\n"
   ]
  },
  {
   "cell_type": "code",
   "execution_count": null,
   "id": "13784e36",
   "metadata": {},
   "outputs": [],
   "source": [
    "# -- Ask the user to enter the unit price --\n"
   ]
  },
  {
   "cell_type": "code",
   "execution_count": null,
   "id": "4101e421",
   "metadata": {},
   "outputs": [],
   "source": [
    "# -- Calculate the extended amount --\n"
   ]
  },
  {
   "cell_type": "code",
   "execution_count": null,
   "id": "e1e75eac",
   "metadata": {},
   "outputs": [],
   "source": [
    "# -- print out product name, quantity, unit price, and extended amount --\n"
   ]
  },
  {
   "cell_type": "markdown",
   "id": "56fb7f92",
   "metadata": {},
   "source": [
    "## List\n",
    "\n",
    "**One transaction involves five items: Apple, Banana, Cherry, Dates and Eggfruits**\n",
    "\n",
    "* **Tasks**:\n",
    "    * Declare a list called fruit to include these five fruits\n",
    "    * Declare a list call quantity to include transactional quantities of each fruit. You decide the quantities. \n",
    "    * Declare a list call price to include price of each fruit. You decide the prices. "
   ]
  },
  {
   "cell_type": "code",
   "execution_count": null,
   "id": "1002e57c",
   "metadata": {},
   "outputs": [],
   "source": [
    "# -- Declare the fruit list --\n"
   ]
  },
  {
   "cell_type": "code",
   "execution_count": null,
   "id": "300e66b5",
   "metadata": {},
   "outputs": [],
   "source": [
    "# -- Declare the quantity list --\n"
   ]
  },
  {
   "cell_type": "code",
   "execution_count": null,
   "id": "19f10f1f",
   "metadata": {},
   "outputs": [],
   "source": [
    "# -- Declare the price list --\n"
   ]
  },
  {
   "cell_type": "markdown",
   "id": "a13eb925",
   "metadata": {},
   "source": [
    "## for loop\n",
    "* **Tasks**:\n",
    "    * Disply the fruit name in the fruit list, one by one\n",
    "    * Calculate extended amount of each item. Formula: extended amount = quantity * price and display the result, one by one\n",
    "    * Calculate the extended amount of each item and then save it to a list called extendedAmt"
   ]
  },
  {
   "cell_type": "code",
   "execution_count": null,
   "id": "10ea237b",
   "metadata": {},
   "outputs": [],
   "source": [
    "# -- Display the fruit name in the fruit list, one by one --\n"
   ]
  },
  {
   "cell_type": "code",
   "execution_count": null,
   "id": "aaa0f215",
   "metadata": {},
   "outputs": [],
   "source": [
    "# -- Calculate and display the extended amount of each fruit --\n"
   ]
  },
  {
   "cell_type": "code",
   "execution_count": null,
   "id": "1f1b7f94",
   "metadata": {},
   "outputs": [],
   "source": [
    "# -- Calculate, display and save the extended amount of each fruit in \n",
    "# -- a list called extendedAmt\n"
   ]
  },
  {
   "cell_type": "code",
   "execution_count": null,
   "id": "3b50cc3e",
   "metadata": {},
   "outputs": [],
   "source": [
    "# -- Display the contents of the extendedAmt list --\n"
   ]
  },
  {
   "cell_type": "markdown",
   "id": "f9ce5b87",
   "metadata": {},
   "source": [
    "## if statement\n",
    "\n",
    "* **Say, one grade system has two possible grades only: pass or failed. They are determined as follows**:\n",
    "    * If a numerical score is greater than or equal to 70, then it is a pass grade. \n",
    "    * If a numercal score is less than 70, it is failed grade \n",
    "* **Task**:\n",
    "    * Write a statement to allow the user to enter a numerical score\n",
    "    * Write an if statement to display pass or failed grade, depending on the numerical score entered by the user. "
   ]
  },
  {
   "cell_type": "code",
   "execution_count": null,
   "id": "15cf7456",
   "metadata": {},
   "outputs": [],
   "source": [
    "# -- Write a statement to receive numerical score entered by the user --\n"
   ]
  },
  {
   "cell_type": "code",
   "execution_count": null,
   "id": "d446637f",
   "metadata": {},
   "outputs": [],
   "source": [
    "# -- Write an if statement to determine the result --\n"
   ]
  },
  {
   "cell_type": "markdown",
   "id": "3d90a092",
   "metadata": {},
   "source": [
    "## if...else statement\n",
    "\n",
    "* **Say, the grade system has three possible grades only: A, B and F. They are determined as follows:\n",
    "    * If a numerical score is greater than or equal to 85, then it is an A\n",
    "    * If a numercal score is less than 85, but greater than or equal to 65, then it is a B. \n",
    "    * If a numerical score is less than 65, it is an F. \n",
    "* **Task**:\n",
    "    * Write a statement to allow the user to enter a numerical score\n",
    "    * Write an if statement to assign a letter grade, depending on the numerical score entered by the user. "
   ]
  },
  {
   "cell_type": "code",
   "execution_count": null,
   "id": "0ab60f6f",
   "metadata": {},
   "outputs": [],
   "source": [
    "# -- Write a statement to receive inputs from the user --\n"
   ]
  },
  {
   "cell_type": "code",
   "execution_count": null,
   "id": "1fb98328",
   "metadata": {},
   "outputs": [],
   "source": [
    "# -- Write an if statement to determine the result --\n"
   ]
  },
  {
   "cell_type": "markdown",
   "id": "5b80154f",
   "metadata": {},
   "source": [
    "# NumPy"
   ]
  },
  {
   "cell_type": "markdown",
   "id": "664ec5c4",
   "metadata": {},
   "source": [
    "## Element-Wise Operation\n"
   ]
  },
  {
   "cell_type": "markdown",
   "id": "0bd32641",
   "metadata": {},
   "source": [
    "**Use array in NumPy to re-do the fruit problem**\n",
    "\n",
    "**Use Numpy operations to calculate extendedAmt and then assign the results in a numpy array**"
   ]
  },
  {
   "cell_type": "code",
   "execution_count": null,
   "id": "2e5a48d8",
   "metadata": {},
   "outputs": [],
   "source": [
    "# -- Declare a fruit array --\n"
   ]
  },
  {
   "cell_type": "code",
   "execution_count": null,
   "id": "556d4351",
   "metadata": {},
   "outputs": [],
   "source": [
    "# -- Declare a quantity array --\n"
   ]
  },
  {
   "cell_type": "code",
   "execution_count": null,
   "id": "b7053248",
   "metadata": {},
   "outputs": [],
   "source": [
    "# -- Declare a price array --\n"
   ]
  },
  {
   "cell_type": "code",
   "execution_count": null,
   "id": "d5101edb",
   "metadata": {},
   "outputs": [],
   "source": [
    "# -- Calculate the extended Amount and assign the result to an array called extendedAmt --\n"
   ]
  },
  {
   "cell_type": "code",
   "execution_count": null,
   "id": "026f87a1",
   "metadata": {},
   "outputs": [],
   "source": [
    "# -- Print the array of extendedAmt --\n"
   ]
  },
  {
   "cell_type": "markdown",
   "id": "68a11e44",
   "metadata": {},
   "source": [
    "## Aggregate Functions\n",
    "\n",
    "**Calculate the total sum**"
   ]
  },
  {
   "cell_type": "code",
   "execution_count": null,
   "id": "e42f815b",
   "metadata": {},
   "outputs": [],
   "source": [
    "# -- Sum up the extended amounts --\n"
   ]
  },
  {
   "cell_type": "markdown",
   "id": "6ec06f05",
   "metadata": {},
   "source": [
    "# DataFrame"
   ]
  },
  {
   "cell_type": "markdown",
   "id": "8a3d724f",
   "metadata": {},
   "source": [
    "## Characterisics of DataFrame\n",
    "\n",
    "* **Tasks**:\n",
    "    * Create a DataFrame called df.\n",
    "    * Show the characteristics of the dataset\n",
    "    * The df DataFrame includes three columns: fruit, quantity and price, values of these three columns come from the lists you created earlier. \n",
    "    * Add one column called extendedAmt, which is the extended amount as defined earlier. "
   ]
  },
  {
   "cell_type": "code",
   "execution_count": null,
   "id": "7fbafbb9",
   "metadata": {},
   "outputs": [],
   "source": [
    "# -- create the DataFrame --\n"
   ]
  },
  {
   "cell_type": "code",
   "execution_count": null,
   "id": "3e30ed4d",
   "metadata": {},
   "outputs": [],
   "source": [
    "# -- Disply the shape of the DataFrame --\n"
   ]
  },
  {
   "cell_type": "code",
   "execution_count": null,
   "id": "01983995",
   "metadata": {},
   "outputs": [],
   "source": [
    "# -- Display the column names --\n"
   ]
  },
  {
   "cell_type": "code",
   "execution_count": null,
   "id": "5aaa1307",
   "metadata": {},
   "outputs": [],
   "source": [
    "# -- Display the properties of each column --\n"
   ]
  },
  {
   "cell_type": "code",
   "execution_count": null,
   "id": "5566e2b9",
   "metadata": {},
   "outputs": [],
   "source": [
    "# -- Display the statistics of numerical columns --\n"
   ]
  },
  {
   "cell_type": "code",
   "execution_count": null,
   "id": "736a7e4f",
   "metadata": {},
   "outputs": [],
   "source": [
    "# -- Display the first two rows --\n"
   ]
  },
  {
   "cell_type": "code",
   "execution_count": null,
   "id": "8e325b74",
   "metadata": {},
   "outputs": [],
   "source": [
    "# -- Add the extended amount column, which is the product of quantity and price --\n"
   ]
  },
  {
   "cell_type": "markdown",
   "id": "fbfce09f",
   "metadata": {},
   "source": [
    "## Indexing and Slicing\n",
    "    "
   ]
  },
  {
   "cell_type": "code",
   "execution_count": null,
   "id": "8e83fa77",
   "metadata": {},
   "outputs": [],
   "source": [
    "# -- Display the values of the price column --\n"
   ]
  },
  {
   "cell_type": "code",
   "execution_count": null,
   "id": "172229ec",
   "metadata": {},
   "outputs": [],
   "source": [
    "# -- Display the row of Cherry --\n"
   ]
  },
  {
   "cell_type": "code",
   "execution_count": null,
   "id": "8a8d95f3",
   "metadata": {},
   "outputs": [],
   "source": [
    "# -- Display the quantity and price of Cherry, do not use .loc --\n"
   ]
  },
  {
   "cell_type": "code",
   "execution_count": null,
   "id": "44d2d609",
   "metadata": {},
   "outputs": [],
   "source": [
    "# -- Display the quantity and price of Cherry, using .loc  --\n"
   ]
  },
  {
   "cell_type": "code",
   "execution_count": null,
   "id": "34511c9e",
   "metadata": {},
   "outputs": [],
   "source": [
    "# -- Display the quantity and price of Cherry, using .loc and index --\n"
   ]
  },
  {
   "cell_type": "code",
   "execution_count": null,
   "id": "3aca34ac",
   "metadata": {},
   "outputs": [],
   "source": [
    "# -- Display the quantity and price of Cherry, --\n",
    "# -- using .loc and Boolean Expressions --\n"
   ]
  },
  {
   "cell_type": "code",
   "execution_count": null,
   "id": "83f3eee5",
   "metadata": {},
   "outputs": [],
   "source": [
    "# -- Display the quantity and price of Cherry, using .iloc --\n"
   ]
  },
  {
   "cell_type": "code",
   "execution_count": null,
   "id": "bbe268d0",
   "metadata": {},
   "outputs": [],
   "source": [
    "# -- Show records whose extended amounts are greater than 50 --\n"
   ]
  },
  {
   "cell_type": "markdown",
   "id": "82eaa92d",
   "metadata": {},
   "source": [
    "## Import Data"
   ]
  },
  {
   "cell_type": "code",
   "execution_count": null,
   "id": "5e720dce",
   "metadata": {},
   "outputs": [],
   "source": [
    "# -- read a dataset called salary.csv at: \n",
    "# -- https://raw.githubusercontent.com/ttchuang/dataset/master/salary.csv\n",
    "# -- Save the dataset in a DataFrame called salary\n"
   ]
  },
  {
   "cell_type": "code",
   "execution_count": null,
   "id": "2f019d27",
   "metadata": {},
   "outputs": [],
   "source": [
    "# -- Show characteristics of the dataset\n"
   ]
  },
  {
   "cell_type": "code",
   "execution_count": null,
   "id": "bc69f7d3",
   "metadata": {},
   "outputs": [],
   "source": [
    "# -- Show the first five records --\n"
   ]
  },
  {
   "cell_type": "code",
   "execution_count": null,
   "id": "85473d1d",
   "metadata": {},
   "outputs": [],
   "source": [
    "# -- Rename the Unnamed: 0 column to ID --\n"
   ]
  },
  {
   "cell_type": "markdown",
   "id": "82e153e2",
   "metadata": {},
   "source": [
    "## Calculate Statistics"
   ]
  },
  {
   "cell_type": "code",
   "execution_count": null,
   "id": "2d5b5be3",
   "metadata": {},
   "outputs": [],
   "source": [
    "# -- Find mean salary of different discipline --\n"
   ]
  },
  {
   "cell_type": "code",
   "execution_count": null,
   "id": "a6ae462c",
   "metadata": {},
   "outputs": [],
   "source": []
  }
 ],
 "metadata": {
  "kernelspec": {
   "display_name": "Python 3 (ipykernel)",
   "language": "python",
   "name": "python3"
  },
  "language_info": {
   "codemirror_mode": {
    "name": "ipython",
    "version": 3
   },
   "file_extension": ".py",
   "mimetype": "text/x-python",
   "name": "python",
   "nbconvert_exporter": "python",
   "pygments_lexer": "ipython3",
   "version": "3.8.3"
  },
  "toc": {
   "base_numbering": 1,
   "nav_menu": {},
   "number_sections": true,
   "sideBar": true,
   "skip_h1_title": false,
   "title_cell": "Table of Contents",
   "title_sidebar": "Contents",
   "toc_cell": false,
   "toc_position": {},
   "toc_section_display": true,
   "toc_window_display": true
  }
 },
 "nbformat": 4,
 "nbformat_minor": 5
}
