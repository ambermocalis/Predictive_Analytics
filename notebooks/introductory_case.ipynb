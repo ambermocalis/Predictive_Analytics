{
 "cells": [
  {
   "cell_type": "markdown",
   "id": "eca8fc55",
   "metadata": {},
   "source": [
    "# Introductory Case\n",
    "* Descriptive Analytics: Visualize data\n",
    "* Predictive Analytics: "
   ]
  },
  {
   "cell_type": "code",
   "execution_count": 1,
   "id": "2b632ad1",
   "metadata": {},
   "outputs": [],
   "source": [
    "import pandas as pd\n",
    "import numpy  as np\n",
    "import matplotlib.pyplot as plt"
   ]
  },
  {
   "cell_type": "markdown",
   "id": "eb8a74a4",
   "metadata": {},
   "source": [
    "## Descriptive Analytics"
   ]
  },
  {
   "cell_type": "code",
   "execution_count": 2,
   "id": "b90d078b",
   "metadata": {},
   "outputs": [],
   "source": [
    "# -- Read data --\n",
    "sales = pd.read_csv(\"https://raw.githubusercontent.com/ttchuang/dataset/master/sales_sample.csv\")"
   ]
  },
  {
   "cell_type": "code",
   "execution_count": 3,
   "id": "5f298bd7",
   "metadata": {},
   "outputs": [
    {
     "name": "stdout",
     "output_type": "stream",
     "text": [
      "<class 'pandas.core.frame.DataFrame'>\n",
      "RangeIndex: 10000 entries, 0 to 9999\n",
      "Data columns (total 12 columns):\n",
      " #   Column                Non-Null Count  Dtype  \n",
      "---  ------                --------------  -----  \n",
      " 0   ProductKey            10000 non-null  int64  \n",
      " 1   ShipDateKey           10000 non-null  int64  \n",
      " 2   SalesTerritoryKey     10000 non-null  int64  \n",
      " 3   SalesOrderNumber      10000 non-null  object \n",
      " 4   OrderQuantity         10000 non-null  int64  \n",
      " 5   UnitPrice             10000 non-null  float64\n",
      " 6   UnitPriceDiscountPct  10000 non-null  int64  \n",
      " 7   ProductStandardCost   10000 non-null  float64\n",
      " 8   ShipDate              10000 non-null  object \n",
      " 9   ProductName           10000 non-null  object \n",
      " 10  Subcategory           10000 non-null  object \n",
      " 11  Category              10000 non-null  object \n",
      "dtypes: float64(2), int64(5), object(5)\n",
      "memory usage: 937.6+ KB\n"
     ]
    }
   ],
   "source": [
    "# -- Data properties --\n",
    "sales.info()"
   ]
  },
  {
   "cell_type": "code",
   "execution_count": 5,
   "id": "ba990a04",
   "metadata": {},
   "outputs": [
    {
     "name": "stdout",
     "output_type": "stream",
     "text": [
      "<class 'pandas.core.frame.DataFrame'>\n",
      "RangeIndex: 10000 entries, 0 to 9999\n",
      "Data columns (total 13 columns):\n",
      " #   Column                Non-Null Count  Dtype  \n",
      "---  ------                --------------  -----  \n",
      " 0   ProductKey            10000 non-null  int64  \n",
      " 1   ShipDateKey           10000 non-null  int64  \n",
      " 2   SalesTerritoryKey     10000 non-null  int64  \n",
      " 3   SalesOrderNumber      10000 non-null  object \n",
      " 4   OrderQuantity         10000 non-null  int64  \n",
      " 5   UnitPrice             10000 non-null  float64\n",
      " 6   UnitPriceDiscountPct  10000 non-null  int64  \n",
      " 7   ProductStandardCost   10000 non-null  float64\n",
      " 8   ShipDate              10000 non-null  object \n",
      " 9   ProductName           10000 non-null  object \n",
      " 10  Subcategory           10000 non-null  object \n",
      " 11  Category              10000 non-null  object \n",
      " 12  ExtendedAmt           10000 non-null  float64\n",
      "dtypes: float64(3), int64(5), object(5)\n",
      "memory usage: 1015.8+ KB\n"
     ]
    }
   ],
   "source": [
    "# -- Add a new column --\n",
    "sales['ExtendedAmt'] = sales['UnitPrice']*sales['OrderQuantity']*(1-sales['UnitPriceDiscountPct'])\n",
    "sales.info()"
   ]
  },
  {
   "cell_type": "code",
   "execution_count": 6,
   "id": "4a081a93",
   "metadata": {},
   "outputs": [
    {
     "data": {
      "text/html": [
       "<div>\n",
       "<style scoped>\n",
       "    .dataframe tbody tr th:only-of-type {\n",
       "        vertical-align: middle;\n",
       "    }\n",
       "\n",
       "    .dataframe tbody tr th {\n",
       "        vertical-align: top;\n",
       "    }\n",
       "\n",
       "    .dataframe thead th {\n",
       "        text-align: right;\n",
       "    }\n",
       "</style>\n",
       "<table border=\"1\" class=\"dataframe\">\n",
       "  <thead>\n",
       "    <tr style=\"text-align: right;\">\n",
       "      <th></th>\n",
       "      <th>ProductKey</th>\n",
       "      <th>ShipDateKey</th>\n",
       "      <th>SalesTerritoryKey</th>\n",
       "      <th>SalesOrderNumber</th>\n",
       "      <th>OrderQuantity</th>\n",
       "      <th>UnitPrice</th>\n",
       "      <th>UnitPriceDiscountPct</th>\n",
       "      <th>ProductStandardCost</th>\n",
       "      <th>ShipDate</th>\n",
       "      <th>ProductName</th>\n",
       "      <th>Subcategory</th>\n",
       "      <th>Category</th>\n",
       "      <th>ExtendedAmt</th>\n",
       "    </tr>\n",
       "  </thead>\n",
       "  <tbody>\n",
       "    <tr>\n",
       "      <th>0</th>\n",
       "      <td>355</td>\n",
       "      <td>20071219</td>\n",
       "      <td>4</td>\n",
       "      <td>SO59879</td>\n",
       "      <td>1</td>\n",
       "      <td>2319.99</td>\n",
       "      <td>0</td>\n",
       "      <td>1265.6195</td>\n",
       "      <td>12/19/2007</td>\n",
       "      <td>Mountain-200 Silver, 42</td>\n",
       "      <td>Mountain Bikes</td>\n",
       "      <td>Bikes</td>\n",
       "      <td>2319.99</td>\n",
       "    </tr>\n",
       "    <tr>\n",
       "      <th>1</th>\n",
       "      <td>540</td>\n",
       "      <td>20070812</td>\n",
       "      <td>1</td>\n",
       "      <td>SO52081</td>\n",
       "      <td>1</td>\n",
       "      <td>32.60</td>\n",
       "      <td>0</td>\n",
       "      <td>12.1924</td>\n",
       "      <td>8/12/2007</td>\n",
       "      <td>HL Road Tire</td>\n",
       "      <td>Tires and Tubes</td>\n",
       "      <td>Accessories</td>\n",
       "      <td>32.60</td>\n",
       "    </tr>\n",
       "    <tr>\n",
       "      <th>2</th>\n",
       "      <td>480</td>\n",
       "      <td>20071213</td>\n",
       "      <td>4</td>\n",
       "      <td>SO59453</td>\n",
       "      <td>1</td>\n",
       "      <td>2.29</td>\n",
       "      <td>0</td>\n",
       "      <td>0.8565</td>\n",
       "      <td>12/13/2007</td>\n",
       "      <td>Patch Kit/8 Patches</td>\n",
       "      <td>Tires and Tubes</td>\n",
       "      <td>Accessories</td>\n",
       "      <td>2.29</td>\n",
       "    </tr>\n",
       "    <tr>\n",
       "      <th>3</th>\n",
       "      <td>225</td>\n",
       "      <td>20080426</td>\n",
       "      <td>10</td>\n",
       "      <td>SO68582</td>\n",
       "      <td>1</td>\n",
       "      <td>8.99</td>\n",
       "      <td>0</td>\n",
       "      <td>6.9223</td>\n",
       "      <td>4/26/2008</td>\n",
       "      <td>AWC Logo Cap</td>\n",
       "      <td>Caps</td>\n",
       "      <td>Clothing</td>\n",
       "      <td>8.99</td>\n",
       "    </tr>\n",
       "    <tr>\n",
       "      <th>4</th>\n",
       "      <td>484</td>\n",
       "      <td>20080110</td>\n",
       "      <td>4</td>\n",
       "      <td>SO61410</td>\n",
       "      <td>1</td>\n",
       "      <td>7.95</td>\n",
       "      <td>0</td>\n",
       "      <td>2.9733</td>\n",
       "      <td>1/10/2008</td>\n",
       "      <td>Bike Wash - Dissolver</td>\n",
       "      <td>Cleaners</td>\n",
       "      <td>Accessories</td>\n",
       "      <td>7.95</td>\n",
       "    </tr>\n",
       "    <tr>\n",
       "      <th>5</th>\n",
       "      <td>529</td>\n",
       "      <td>20071104</td>\n",
       "      <td>10</td>\n",
       "      <td>SO56826</td>\n",
       "      <td>1</td>\n",
       "      <td>3.99</td>\n",
       "      <td>0</td>\n",
       "      <td>1.4923</td>\n",
       "      <td>11/4/2007</td>\n",
       "      <td>Road Tire Tube</td>\n",
       "      <td>Tires and Tubes</td>\n",
       "      <td>Accessories</td>\n",
       "      <td>3.99</td>\n",
       "    </tr>\n",
       "    <tr>\n",
       "      <th>6</th>\n",
       "      <td>222</td>\n",
       "      <td>20080626</td>\n",
       "      <td>9</td>\n",
       "      <td>SO73261</td>\n",
       "      <td>1</td>\n",
       "      <td>34.99</td>\n",
       "      <td>0</td>\n",
       "      <td>13.0863</td>\n",
       "      <td>6/26/2008</td>\n",
       "      <td>Sport-100 Helmet, Blue</td>\n",
       "      <td>Helmets</td>\n",
       "      <td>Accessories</td>\n",
       "      <td>34.99</td>\n",
       "    </tr>\n",
       "    <tr>\n",
       "      <th>7</th>\n",
       "      <td>478</td>\n",
       "      <td>20080615</td>\n",
       "      <td>4</td>\n",
       "      <td>SO72458</td>\n",
       "      <td>1</td>\n",
       "      <td>9.99</td>\n",
       "      <td>0</td>\n",
       "      <td>3.7363</td>\n",
       "      <td>6/15/2008</td>\n",
       "      <td>Mountain Bottle Cage</td>\n",
       "      <td>Bottles and Cages</td>\n",
       "      <td>Accessories</td>\n",
       "      <td>9.99</td>\n",
       "    </tr>\n",
       "    <tr>\n",
       "      <th>8</th>\n",
       "      <td>583</td>\n",
       "      <td>20071018</td>\n",
       "      <td>8</td>\n",
       "      <td>SO55932</td>\n",
       "      <td>1</td>\n",
       "      <td>1700.99</td>\n",
       "      <td>0</td>\n",
       "      <td>1082.5100</td>\n",
       "      <td>10/18/2007</td>\n",
       "      <td>Road-350-W Yellow, 48</td>\n",
       "      <td>Road Bikes</td>\n",
       "      <td>Bikes</td>\n",
       "      <td>1700.99</td>\n",
       "    </tr>\n",
       "    <tr>\n",
       "      <th>9</th>\n",
       "      <td>599</td>\n",
       "      <td>20080624</td>\n",
       "      <td>8</td>\n",
       "      <td>SO73118</td>\n",
       "      <td>1</td>\n",
       "      <td>539.99</td>\n",
       "      <td>0</td>\n",
       "      <td>294.5797</td>\n",
       "      <td>6/24/2008</td>\n",
       "      <td>Mountain-500 Black, 48</td>\n",
       "      <td>Mountain Bikes</td>\n",
       "      <td>Bikes</td>\n",
       "      <td>539.99</td>\n",
       "    </tr>\n",
       "  </tbody>\n",
       "</table>\n",
       "</div>"
      ],
      "text/plain": [
       "   ProductKey  ShipDateKey  SalesTerritoryKey SalesOrderNumber  OrderQuantity  \\\n",
       "0         355     20071219                  4          SO59879              1   \n",
       "1         540     20070812                  1          SO52081              1   \n",
       "2         480     20071213                  4          SO59453              1   \n",
       "3         225     20080426                 10          SO68582              1   \n",
       "4         484     20080110                  4          SO61410              1   \n",
       "5         529     20071104                 10          SO56826              1   \n",
       "6         222     20080626                  9          SO73261              1   \n",
       "7         478     20080615                  4          SO72458              1   \n",
       "8         583     20071018                  8          SO55932              1   \n",
       "9         599     20080624                  8          SO73118              1   \n",
       "\n",
       "   UnitPrice  UnitPriceDiscountPct  ProductStandardCost    ShipDate  \\\n",
       "0    2319.99                     0            1265.6195  12/19/2007   \n",
       "1      32.60                     0              12.1924   8/12/2007   \n",
       "2       2.29                     0               0.8565  12/13/2007   \n",
       "3       8.99                     0               6.9223   4/26/2008   \n",
       "4       7.95                     0               2.9733   1/10/2008   \n",
       "5       3.99                     0               1.4923   11/4/2007   \n",
       "6      34.99                     0              13.0863   6/26/2008   \n",
       "7       9.99                     0               3.7363   6/15/2008   \n",
       "8    1700.99                     0            1082.5100  10/18/2007   \n",
       "9     539.99                     0             294.5797   6/24/2008   \n",
       "\n",
       "               ProductName        Subcategory     Category  ExtendedAmt  \n",
       "0  Mountain-200 Silver, 42     Mountain Bikes        Bikes      2319.99  \n",
       "1             HL Road Tire    Tires and Tubes  Accessories        32.60  \n",
       "2      Patch Kit/8 Patches    Tires and Tubes  Accessories         2.29  \n",
       "3             AWC Logo Cap               Caps     Clothing         8.99  \n",
       "4    Bike Wash - Dissolver           Cleaners  Accessories         7.95  \n",
       "5           Road Tire Tube    Tires and Tubes  Accessories         3.99  \n",
       "6   Sport-100 Helmet, Blue            Helmets  Accessories        34.99  \n",
       "7     Mountain Bottle Cage  Bottles and Cages  Accessories         9.99  \n",
       "8    Road-350-W Yellow, 48         Road Bikes        Bikes      1700.99  \n",
       "9   Mountain-500 Black, 48     Mountain Bikes        Bikes       539.99  "
      ]
     },
     "execution_count": 6,
     "metadata": {},
     "output_type": "execute_result"
    }
   ],
   "source": [
    "# -- Preview --\n",
    "sales.head(10)"
   ]
  },
  {
   "cell_type": "code",
   "execution_count": 7,
   "id": "c90ee983",
   "metadata": {},
   "outputs": [
    {
     "data": {
      "text/plain": [
       "Category\n",
       "Accessories    1.164229e+05\n",
       "Bikes          4.650401e+06\n",
       "Clothing       5.769847e+04\n",
       "Name: ExtendedAmt, dtype: float64"
      ]
     },
     "execution_count": 7,
     "metadata": {},
     "output_type": "execute_result"
    }
   ],
   "source": [
    "# -- Sum up sales by category --\n",
    "sales.groupby('Category')['ExtendedAmt'].sum()"
   ]
  },
  {
   "cell_type": "code",
   "execution_count": 11,
   "id": "30e1d875",
   "metadata": {},
   "outputs": [
    {
     "data": {
      "image/png": "[encoded data removed]",
      "text/plain": [
       "<Figure size 432x288 with 1 Axes>"
      ]
     },
     "metadata": {
      "needs_background": "light"
     },
     "output_type": "display_data"
    }
   ],
   "source": [
    "# -- Plot bar chart --\n",
    "sales.groupby('Category')['ExtendedAmt'].sum().plot(kind='bar', \n",
    "                                                   grid = True,\n",
    "                                                   title='Sales by Category');"
   ]
  },
  {
   "cell_type": "markdown",
   "id": "d539f2a1",
   "metadata": {},
   "source": [
    "## Predictive Analytics"
   ]
  },
  {
   "cell_type": "code",
   "execution_count": 12,
   "id": "c3e00418",
   "metadata": {},
   "outputs": [],
   "source": [
    "# -- Read data --\n",
    "loan = pd.read_csv('https://raw.githubusercontent.com/ttchuang/dataset/master/loan_balanced.csv')"
   ]
  },
  {
   "cell_type": "code",
   "execution_count": 13,
   "id": "7a5ba36f",
   "metadata": {},
   "outputs": [
    {
     "name": "stdout",
     "output_type": "stream",
     "text": [
      "<class 'pandas.core.frame.DataFrame'>\n",
      "RangeIndex: 960 entries, 0 to 959\n",
      "Data columns (total 14 columns):\n",
      " #   Column              Non-Null Count  Dtype  \n",
      "---  ------              --------------  -----  \n",
      " 0   ID                  960 non-null    int64  \n",
      " 1   Age                 960 non-null    int64  \n",
      " 2   Experience          960 non-null    int64  \n",
      " 3   Income              960 non-null    int64  \n",
      " 4   ZIP_Code            960 non-null    int64  \n",
      " 5   Family              960 non-null    int64  \n",
      " 6   CCAvg               960 non-null    float64\n",
      " 7   Education           960 non-null    int64  \n",
      " 8   Mortgage            960 non-null    int64  \n",
      " 9   Personal_Loan       960 non-null    int64  \n",
      " 10  Securities_Account  960 non-null    int64  \n",
      " 11  CD_Account          960 non-null    int64  \n",
      " 12  Online              960 non-null    int64  \n",
      " 13  CreditCard          960 non-null    int64  \n",
      "dtypes: float64(1), int64(13)\n",
      "memory usage: 105.1 KB\n"
     ]
    }
   ],
   "source": [
    "# -- Data properties --\n",
    "loan.info()"
   ]
  },
  {
   "cell_type": "code",
   "execution_count": 15,
   "id": "c882291b",
   "metadata": {},
   "outputs": [
    {
     "name": "stdout",
     "output_type": "stream",
     "text": [
      "<class 'pandas.core.frame.DataFrame'>\n",
      "RangeIndex: 960 entries, 0 to 959\n",
      "Data columns (total 5 columns):\n",
      " #   Column         Non-Null Count  Dtype  \n",
      "---  ------         --------------  -----  \n",
      " 0   CCAvg          960 non-null    float64\n",
      " 1   Education      960 non-null    int64  \n",
      " 2   Mortgage       960 non-null    int64  \n",
      " 3   CD_Account     960 non-null    int64  \n",
      " 4   Personal_Loan  960 non-null    int64  \n",
      "dtypes: float64(1), int64(4)\n",
      "memory usage: 37.6 KB\n"
     ]
    }
   ],
   "source": [
    "# -- Choose feature --\n",
    "cols = ['CCAvg','Education','Mortgage','CD_Account','Personal_Loan']\n",
    "loan = loan[cols]\n",
    "loan.info()"
   ]
  },
  {
   "cell_type": "code",
   "execution_count": 20,
   "id": "d4a5eefc",
   "metadata": {},
   "outputs": [],
   "source": [
    "# -- Split -- \n",
    "from sklearn.model_selection import train_test_split\n",
    "X = loan[['CCAvg','Education','Mortgage','CD_Account']]\n",
    "y = loan['Personal_Loan']\n",
    "X_train, X_test,y_train,y_test = train_test_split(X,\n",
    "                                                  y,\n",
    "                                                 train_size = 0.8,\n",
    "                                                 stratify = y)"
   ]
  },
  {
   "cell_type": "code",
   "execution_count": 21,
   "id": "90e41cb8",
   "metadata": {},
   "outputs": [
    {
     "data": {
      "text/html": [
       "<div>\n",
       "<style scoped>\n",
       "    .dataframe tbody tr th:only-of-type {\n",
       "        vertical-align: middle;\n",
       "    }\n",
       "\n",
       "    .dataframe tbody tr th {\n",
       "        vertical-align: top;\n",
       "    }\n",
       "\n",
       "    .dataframe thead th {\n",
       "        text-align: right;\n",
       "    }\n",
       "</style>\n",
       "<table border=\"1\" class=\"dataframe\">\n",
       "  <thead>\n",
       "    <tr style=\"text-align: right;\">\n",
       "      <th></th>\n",
       "      <th>CCAvg</th>\n",
       "      <th>Education</th>\n",
       "      <th>Mortgage</th>\n",
       "      <th>CD_Account</th>\n",
       "    </tr>\n",
       "  </thead>\n",
       "  <tbody>\n",
       "    <tr>\n",
       "      <th>241</th>\n",
       "      <td>0.8</td>\n",
       "      <td>2</td>\n",
       "      <td>248</td>\n",
       "      <td>0</td>\n",
       "    </tr>\n",
       "    <tr>\n",
       "      <th>902</th>\n",
       "      <td>5.7</td>\n",
       "      <td>2</td>\n",
       "      <td>0</td>\n",
       "      <td>0</td>\n",
       "    </tr>\n",
       "    <tr>\n",
       "      <th>321</th>\n",
       "      <td>6.5</td>\n",
       "      <td>1</td>\n",
       "      <td>0</td>\n",
       "      <td>0</td>\n",
       "    </tr>\n",
       "    <tr>\n",
       "      <th>513</th>\n",
       "      <td>6.1</td>\n",
       "      <td>1</td>\n",
       "      <td>0</td>\n",
       "      <td>0</td>\n",
       "    </tr>\n",
       "    <tr>\n",
       "      <th>257</th>\n",
       "      <td>0.8</td>\n",
       "      <td>2</td>\n",
       "      <td>0</td>\n",
       "      <td>0</td>\n",
       "    </tr>\n",
       "    <tr>\n",
       "      <th>...</th>\n",
       "      <td>...</td>\n",
       "      <td>...</td>\n",
       "      <td>...</td>\n",
       "      <td>...</td>\n",
       "    </tr>\n",
       "    <tr>\n",
       "      <th>764</th>\n",
       "      <td>4.1</td>\n",
       "      <td>2</td>\n",
       "      <td>0</td>\n",
       "      <td>0</td>\n",
       "    </tr>\n",
       "    <tr>\n",
       "      <th>99</th>\n",
       "      <td>2.2</td>\n",
       "      <td>2</td>\n",
       "      <td>323</td>\n",
       "      <td>0</td>\n",
       "    </tr>\n",
       "    <tr>\n",
       "      <th>322</th>\n",
       "      <td>1.2</td>\n",
       "      <td>2</td>\n",
       "      <td>0</td>\n",
       "      <td>0</td>\n",
       "    </tr>\n",
       "    <tr>\n",
       "      <th>556</th>\n",
       "      <td>10.0</td>\n",
       "      <td>3</td>\n",
       "      <td>0</td>\n",
       "      <td>0</td>\n",
       "    </tr>\n",
       "    <tr>\n",
       "      <th>796</th>\n",
       "      <td>5.7</td>\n",
       "      <td>3</td>\n",
       "      <td>0</td>\n",
       "      <td>0</td>\n",
       "    </tr>\n",
       "  </tbody>\n",
       "</table>\n",
       "<p>768 rows × 4 columns</p>\n",
       "</div>"
      ],
      "text/plain": [
       "     CCAvg  Education  Mortgage  CD_Account\n",
       "241    0.8          2       248           0\n",
       "902    5.7          2         0           0\n",
       "321    6.5          1         0           0\n",
       "513    6.1          1         0           0\n",
       "257    0.8          2         0           0\n",
       "..     ...        ...       ...         ...\n",
       "764    4.1          2         0           0\n",
       "99     2.2          2       323           0\n",
       "322    1.2          2         0           0\n",
       "556   10.0          3         0           0\n",
       "796    5.7          3         0           0\n",
       "\n",
       "[768 rows x 4 columns]"
      ]
     },
     "execution_count": 21,
     "metadata": {},
     "output_type": "execute_result"
    }
   ],
   "source": [
    "X_train"
   ]
  },
  {
   "cell_type": "code",
   "execution_count": 22,
   "id": "600bd271",
   "metadata": {},
   "outputs": [
    {
     "data": {
      "text/html": [
       "<style>#sk-container-id-1 {color: black;background-color: white;}#sk-container-id-1 pre{padding: 0;}#sk-container-id-1 div.sk-toggleable {background-color: white;}#sk-container-id-1 label.sk-toggleable__label {cursor: pointer;display: block;width: 100%;margin-bottom: 0;padding: 0.3em;box-sizing: border-box;text-align: center;}#sk-container-id-1 label.sk-toggleable__label-arrow:before {content: \"▸\";float: left;margin-right: 0.25em;color: #696969;}#sk-container-id-1 label.sk-toggleable__label-arrow:hover:before {color: black;}#sk-container-id-1 div.sk-estimator:hover label.sk-toggleable__label-arrow:before {color: black;}#sk-container-id-1 div.sk-toggleable__content {max-height: 0;max-width: 0;overflow: hidden;text-align: left;background-color: #f0f8ff;}#sk-container-id-1 div.sk-toggleable__content pre {margin: 0.2em;color: black;border-radius: 0.25em;background-color: #f0f8ff;}#sk-container-id-1 input.sk-toggleable__control:checked~div.sk-toggleable__content {max-height: 200px;max-width: 100%;overflow: auto;}#sk-container-id-1 input.sk-toggleable__control:checked~label.sk-toggleable__label-arrow:before {content: \"▾\";}#sk-container-id-1 div.sk-estimator input.sk-toggleable__control:checked~label.sk-toggleable__label {background-color: #d4ebff;}#sk-container-id-1 div.sk-label input.sk-toggleable__control:checked~label.sk-toggleable__label {background-color: #d4ebff;}#sk-container-id-1 input.sk-hidden--visually {border: 0;clip: rect(1px 1px 1px 1px);clip: rect(1px, 1px, 1px, 1px);height: 1px;margin: -1px;overflow: hidden;padding: 0;position: absolute;width: 1px;}#sk-container-id-1 div.sk-estimator {font-family: monospace;background-color: #f0f8ff;border: 1px dotted black;border-radius: 0.25em;box-sizing: border-box;margin-bottom: 0.5em;}#sk-container-id-1 div.sk-estimator:hover {background-color: #d4ebff;}#sk-container-id-1 div.sk-parallel-item::after {content: \"\";width: 100%;border-bottom: 1px solid gray;flex-grow: 1;}#sk-container-id-1 div.sk-label:hover label.sk-toggleable__label {background-color: #d4ebff;}#sk-container-id-1 div.sk-serial::before {content: \"\";position: absolute;border-left: 1px solid gray;box-sizing: border-box;top: 0;bottom: 0;left: 50%;z-index: 0;}#sk-container-id-1 div.sk-serial {display: flex;flex-direction: column;align-items: center;background-color: white;padding-right: 0.2em;padding-left: 0.2em;position: relative;}#sk-container-id-1 div.sk-item {position: relative;z-index: 1;}#sk-container-id-1 div.sk-parallel {display: flex;align-items: stretch;justify-content: center;background-color: white;position: relative;}#sk-container-id-1 div.sk-item::before, #sk-container-id-1 div.sk-parallel-item::before {content: \"\";position: absolute;border-left: 1px solid gray;box-sizing: border-box;top: 0;bottom: 0;left: 50%;z-index: -1;}#sk-container-id-1 div.sk-parallel-item {display: flex;flex-direction: column;z-index: 1;position: relative;background-color: white;}#sk-container-id-1 div.sk-parallel-item:first-child::after {align-self: flex-end;width: 50%;}#sk-container-id-1 div.sk-parallel-item:last-child::after {align-self: flex-start;width: 50%;}#sk-container-id-1 div.sk-parallel-item:only-child::after {width: 0;}#sk-container-id-1 div.sk-dashed-wrapped {border: 1px dashed gray;margin: 0 0.4em 0.5em 0.4em;box-sizing: border-box;padding-bottom: 0.4em;background-color: white;}#sk-container-id-1 div.sk-label label {font-family: monospace;font-weight: bold;display: inline-block;line-height: 1.2em;}#sk-container-id-1 div.sk-label-container {text-align: center;}#sk-container-id-1 div.sk-container {/* jupyter's `normalize.less` sets `[hidden] { display: none; }` but bootstrap.min.css set `[hidden] { display: none !important; }` so we also need the `!important` here to be able to override the default hidden behavior on the sphinx rendered scikit-learn.org. See: https://github.com/scikit-learn/scikit-learn/issues/21755 */display: inline-block !important;position: relative;}#sk-container-id-1 div.sk-text-repr-fallback {display: none;}</style><div id=\"sk-container-id-1\" class=\"sk-top-container\"><div class=\"sk-text-repr-fallback\"><pre>DecisionTreeClassifier(max_leaf_nodes=5)</pre><b>In a Jupyter environment, please rerun this cell to show the HTML representation or trust the notebook. <br />On GitHub, the HTML representation is unable to render, please try loading this page with nbviewer.org.</b></div><div class=\"sk-container\" hidden><div class=\"sk-item\"><div class=\"sk-estimator sk-toggleable\"><input class=\"sk-toggleable__control sk-hidden--visually\" id=\"sk-estimator-id-1\" type=\"checkbox\" checked><label for=\"sk-estimator-id-1\" class=\"sk-toggleable__label sk-toggleable__label-arrow\">DecisionTreeClassifier</label><div class=\"sk-toggleable__content\"><pre>DecisionTreeClassifier(max_leaf_nodes=5)</pre></div></div></div></div></div>"
      ],
      "text/plain": [
       "DecisionTreeClassifier(max_leaf_nodes=5)"
      ]
     },
     "execution_count": 22,
     "metadata": {},
     "output_type": "execute_result"
    }
   ],
   "source": [
    "# -- Modeling --\n",
    "from sklearn.tree import DecisionTreeClassifier, export_graphviz\n",
    "classifier = DecisionTreeClassifier(criterion = 'gini',\n",
    "                                max_leaf_nodes = 5)\n",
    "classifier.fit(X_train,y_train)"
   ]
  },
  {
   "cell_type": "code",
   "execution_count": 23,
   "id": "0da9a6c2",
   "metadata": {},
   "outputs": [
    {
     "data": {
      "text/plain": [
       "0.8268229166666666"
      ]
     },
     "execution_count": 23,
     "metadata": {},
     "output_type": "execute_result"
    }
   ],
   "source": [
    "# -- Model performance --\n",
    "classifier.score(X_train,y_train)"
   ]
  },
  {
   "cell_type": "code",
   "execution_count": 24,
   "id": "b4b13230",
   "metadata": {},
   "outputs": [
    {
     "data": {
      "image/png": "[encoded data removed]",
      "text/plain": [
       "<Figure size 720x576 with 1 Axes>"
      ]
     },
     "metadata": {
      "needs_background": "light"
     },
     "output_type": "display_data"
    }
   ],
   "source": [
    "# -- Visualize the tree --\n",
    "from sklearn import tree\n",
    "\n",
    "y_names = ['Declined','Accepted']\n",
    "\n",
    "plt.figure(figsize=(10,8))\n",
    "_ = tree.plot_tree(classifier,\n",
    "                  feature_names = X.columns,\n",
    "                  class_names = y_names, \n",
    "                  filled = True)"
   ]
  },
  {
   "cell_type": "code",
   "execution_count": 26,
   "id": "ce23da14",
   "metadata": {},
   "outputs": [
    {
     "name": "stdout",
     "output_type": "stream",
     "text": [
      "[0.         0.05208333 0.09375    0.10416667 0.28125    1.        ]\n",
      "[0.         0.60416667 0.64583333 0.69791667 0.82291667 1.        ]\n",
      "[1.94017094 0.94017094 0.75       0.63157895 0.6        0.16533333]\n"
     ]
    }
   ],
   "source": [
    "# -- Calculate fpr and tpr --\n",
    "\n",
    "from sklearn.metrics import roc_curve, auc\n",
    "\n",
    "probs = classifier.predict_proba(X_test)\n",
    "\n",
    "fpr, tpr, threshold = roc_curve(y_test, probs[:,1])\n",
    "print(fpr)\n",
    "print(tpr)\n",
    "print(threshold)"
   ]
  },
  {
   "cell_type": "code",
   "execution_count": 27,
   "id": "515fa893",
   "metadata": {},
   "outputs": [
    {
     "data": {
      "image/png": "[encoded data removed]",
      "text/plain": [
       "<Figure size 432x288 with 1 Axes>"
      ]
     },
     "metadata": {
      "needs_background": "light"
     },
     "output_type": "display_data"
    }
   ],
   "source": [
    "# -- Draw ROC --\n",
    "\n",
    "roc_auc = auc(fpr, tpr)\n",
    "\n",
    "plt.clf()\n",
    "plt.plot(fpr,tpr,'b',label = 'AUC = %0.2F' % roc_auc)\n",
    "plt.plot(fpr, tpr)\n",
    "plt.plot([0,1],[0,1],'r--')\n",
    "# plt.xlim([0,1])\n",
    "# plt.ylim([0,1])\n",
    "plt.ylabel('True Positive Rate (TPR)')\n",
    "plt.xlabel('False Positive Rate (FPR)')\n",
    "plt.title('Receiver Operating Characteristics (ROC)')\n",
    "plt.legend(loc = 'lower right')\n",
    "plt.show()"
   ]
  },
  {
   "cell_type": "code",
   "execution_count": null,
   "id": "aa3c2674",
   "metadata": {},
   "outputs": [],
   "source": []
  }
 ],
 "metadata": {
  "kernelspec": {
   "display_name": "Python 3 (ipykernel)",
   "language": "python",
   "name": "python3"
  },
  "language_info": {
   "codemirror_mode": {
    "name": "ipython",
    "version": 3
   },
   "file_extension": ".py",
   "mimetype": "text/x-python",
   "name": "python",
   "nbconvert_exporter": "python",
   "pygments_lexer": "ipython3",
   "version": "3.8.3"
  },
  "toc": {
   "base_numbering": 1,
   "nav_menu": {},
   "number_sections": true,
   "sideBar": true,
   "skip_h1_title": false,
   "title_cell": "Table of Contents",
   "title_sidebar": "Contents",
   "toc_cell": false,
   "toc_position": {},
   "toc_section_display": true,
   "toc_window_display": false
  }
 },
 "nbformat": 4,
 "nbformat_minor": 5
}
